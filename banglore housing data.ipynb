{
 "cells": [
  {
   "cell_type": "code",
   "execution_count": 1,
   "metadata": {},
   "outputs": [],
   "source": [
    "# import library\n",
    "import numpy as np\n",
    "import pandas as pd\n",
    "import matplotlib.pyplot as plt\n",
    "import seaborn as sns\n",
    "from sklearn.model_selection import train_test_split\n",
    "from sklearn.linear_model import LinearRegression\n",
    "from sklearn.linear_model import LogisticRegression\n",
    "from sklearn.tree import DecisionTreeClassifier\n",
    "from sklearn.neighbors import KNeighborsClassifier\n",
    "from sklearn.model_selection import KFold\n",
    "from sklearn.metrics import r2_score,accuracy_score,confusion_matrix,classification_report\n",
    "import warnings\n",
    "warnings.filterwarnings(\"ignore\")\n",
    "%matplotlib inline"
   ]
  },
  {
   "cell_type": "code",
   "execution_count": 2,
   "metadata": {},
   "outputs": [
    {
     "data": {
      "text/html": [
       "<div>\n",
       "<style scoped>\n",
       "    .dataframe tbody tr th:only-of-type {\n",
       "        vertical-align: middle;\n",
       "    }\n",
       "\n",
       "    .dataframe tbody tr th {\n",
       "        vertical-align: top;\n",
       "    }\n",
       "\n",
       "    .dataframe thead th {\n",
       "        text-align: right;\n",
       "    }\n",
       "</style>\n",
       "<table border=\"1\" class=\"dataframe\">\n",
       "  <thead>\n",
       "    <tr style=\"text-align: right;\">\n",
       "      <th></th>\n",
       "      <th>place</th>\n",
       "      <th>built</th>\n",
       "      <th>sqft</th>\n",
       "      <th>sale</th>\n",
       "      <th>yearsOld</th>\n",
       "      <th>floor</th>\n",
       "      <th>totalFloor</th>\n",
       "      <th>bhk</th>\n",
       "      <th>price</th>\n",
       "    </tr>\n",
       "  </thead>\n",
       "  <tbody>\n",
       "    <tr>\n",
       "      <th>0</th>\n",
       "      <td>BTM Layout</td>\n",
       "      <td>Super built-up  Area</td>\n",
       "      <td>1450</td>\n",
       "      <td>Resale</td>\n",
       "      <td>5</td>\n",
       "      <td>1</td>\n",
       "      <td>4</td>\n",
       "      <td>1</td>\n",
       "      <td>6300000</td>\n",
       "    </tr>\n",
       "    <tr>\n",
       "      <th>1</th>\n",
       "      <td>Yelahanka</td>\n",
       "      <td>Super built-up  Area</td>\n",
       "      <td>2190</td>\n",
       "      <td>Resale</td>\n",
       "      <td>5</td>\n",
       "      <td>3</td>\n",
       "      <td>5</td>\n",
       "      <td>3</td>\n",
       "      <td>11500000</td>\n",
       "    </tr>\n",
       "    <tr>\n",
       "      <th>2</th>\n",
       "      <td>Whitefield</td>\n",
       "      <td>Super built-up  Area</td>\n",
       "      <td>1019</td>\n",
       "      <td>Resale</td>\n",
       "      <td>1</td>\n",
       "      <td>2</td>\n",
       "      <td>5</td>\n",
       "      <td>2</td>\n",
       "      <td>3800000</td>\n",
       "    </tr>\n",
       "    <tr>\n",
       "      <th>3</th>\n",
       "      <td>Ambalipura</td>\n",
       "      <td>Super built-up  Area</td>\n",
       "      <td>1857</td>\n",
       "      <td>Resale</td>\n",
       "      <td>15</td>\n",
       "      <td>4</td>\n",
       "      <td>5</td>\n",
       "      <td>4</td>\n",
       "      <td>10500000</td>\n",
       "    </tr>\n",
       "    <tr>\n",
       "      <th>4</th>\n",
       "      <td>Yelahanka</td>\n",
       "      <td>Super built-up  Area</td>\n",
       "      <td>2190</td>\n",
       "      <td>Resale</td>\n",
       "      <td>5</td>\n",
       "      <td>3</td>\n",
       "      <td>5</td>\n",
       "      <td>3</td>\n",
       "      <td>11500000</td>\n",
       "    </tr>\n",
       "  </tbody>\n",
       "</table>\n",
       "</div>"
      ],
      "text/plain": [
       "        place                 built  sqft    sale  yearsOld  floor  \\\n",
       "0  BTM Layout  Super built-up  Area  1450  Resale         5      1   \n",
       "1   Yelahanka  Super built-up  Area  2190  Resale         5      3   \n",
       "2  Whitefield  Super built-up  Area  1019  Resale         1      2   \n",
       "3  Ambalipura  Super built-up  Area  1857  Resale        15      4   \n",
       "4   Yelahanka  Super built-up  Area  2190  Resale         5      3   \n",
       "\n",
       "   totalFloor  bhk     price  \n",
       "0           4    1   6300000  \n",
       "1           5    3  11500000  \n",
       "2           5    2   3800000  \n",
       "3           5    4  10500000  \n",
       "4           5    3  11500000  "
      ]
     },
     "execution_count": 2,
     "metadata": {},
     "output_type": "execute_result"
    }
   ],
   "source": [
    "# import data\n",
    "# load data\n",
    "data = pd.read_csv('hp_data.csv')\n",
    "data.head()"
   ]
  },
  {
   "cell_type": "code",
   "execution_count": 3,
   "metadata": {},
   "outputs": [
    {
     "data": {
      "text/plain": [
       "(3500, 9)"
      ]
     },
     "execution_count": 3,
     "metadata": {},
     "output_type": "execute_result"
    }
   ],
   "source": [
    "data.shape"
   ]
  },
  {
   "cell_type": "code",
   "execution_count": 4,
   "metadata": {},
   "outputs": [
    {
     "data": {
      "text/plain": [
       "31500"
      ]
     },
     "execution_count": 4,
     "metadata": {},
     "output_type": "execute_result"
    }
   ],
   "source": [
    "data.size"
   ]
  },
  {
   "cell_type": "code",
   "execution_count": 5,
   "metadata": {},
   "outputs": [
    {
     "name": "stdout",
     "output_type": "stream",
     "text": [
      "<class 'pandas.core.frame.DataFrame'>\n",
      "RangeIndex: 3500 entries, 0 to 3499\n",
      "Data columns (total 9 columns):\n",
      " #   Column      Non-Null Count  Dtype \n",
      "---  ------      --------------  ----- \n",
      " 0   place       3500 non-null   object\n",
      " 1   built       3500 non-null   object\n",
      " 2   sqft        3500 non-null   int64 \n",
      " 3   sale        3500 non-null   object\n",
      " 4   yearsOld    3500 non-null   int64 \n",
      " 5   floor       3500 non-null   int64 \n",
      " 6   totalFloor  3500 non-null   int64 \n",
      " 7   bhk         3500 non-null   int64 \n",
      " 8   price       3500 non-null   int64 \n",
      "dtypes: int64(6), object(3)\n",
      "memory usage: 246.2+ KB\n"
     ]
    }
   ],
   "source": [
    "# data preprocessing\n",
    "# checking value count and info\n",
    "data.info()"
   ]
  },
  {
   "cell_type": "code",
   "execution_count": 6,
   "metadata": {},
   "outputs": [
    {
     "data": {
      "text/plain": [
       "place         0\n",
       "built         0\n",
       "sqft          0\n",
       "sale          0\n",
       "yearsOld      0\n",
       "floor         0\n",
       "totalFloor    0\n",
       "bhk           0\n",
       "price         0\n",
       "dtype: int64"
      ]
     },
     "execution_count": 6,
     "metadata": {},
     "output_type": "execute_result"
    }
   ],
   "source": [
    "# checking null value in dataset\n",
    "data.isnull().sum()"
   ]
  },
  {
   "cell_type": "code",
   "execution_count": 7,
   "metadata": {},
   "outputs": [
    {
     "data": {
      "text/html": [
       "<div>\n",
       "<style scoped>\n",
       "    .dataframe tbody tr th:only-of-type {\n",
       "        vertical-align: middle;\n",
       "    }\n",
       "\n",
       "    .dataframe tbody tr th {\n",
       "        vertical-align: top;\n",
       "    }\n",
       "\n",
       "    .dataframe thead th {\n",
       "        text-align: right;\n",
       "    }\n",
       "</style>\n",
       "<table border=\"1\" class=\"dataframe\">\n",
       "  <thead>\n",
       "    <tr style=\"text-align: right;\">\n",
       "      <th></th>\n",
       "      <th>sqft</th>\n",
       "      <th>yearsOld</th>\n",
       "      <th>floor</th>\n",
       "      <th>totalFloor</th>\n",
       "      <th>bhk</th>\n",
       "      <th>price</th>\n",
       "    </tr>\n",
       "  </thead>\n",
       "  <tbody>\n",
       "    <tr>\n",
       "      <th>count</th>\n",
       "      <td>3500.000000</td>\n",
       "      <td>3500.000000</td>\n",
       "      <td>3500.000000</td>\n",
       "      <td>3500.000000</td>\n",
       "      <td>3500.000000</td>\n",
       "      <td>3.500000e+03</td>\n",
       "    </tr>\n",
       "    <tr>\n",
       "      <th>mean</th>\n",
       "      <td>1538.163143</td>\n",
       "      <td>7.602000</td>\n",
       "      <td>4.197714</td>\n",
       "      <td>6.371429</td>\n",
       "      <td>4.197714</td>\n",
       "      <td>8.067807e+06</td>\n",
       "    </tr>\n",
       "    <tr>\n",
       "      <th>std</th>\n",
       "      <td>416.264178</td>\n",
       "      <td>3.803196</td>\n",
       "      <td>4.782410</td>\n",
       "      <td>4.461808</td>\n",
       "      <td>4.782410</td>\n",
       "      <td>4.984973e+06</td>\n",
       "    </tr>\n",
       "    <tr>\n",
       "      <th>min</th>\n",
       "      <td>1019.000000</td>\n",
       "      <td>1.000000</td>\n",
       "      <td>1.000000</td>\n",
       "      <td>4.000000</td>\n",
       "      <td>1.000000</td>\n",
       "      <td>3.800000e+06</td>\n",
       "    </tr>\n",
       "    <tr>\n",
       "      <th>25%</th>\n",
       "      <td>1200.000000</td>\n",
       "      <td>5.000000</td>\n",
       "      <td>1.000000</td>\n",
       "      <td>4.000000</td>\n",
       "      <td>1.000000</td>\n",
       "      <td>4.800000e+06</td>\n",
       "    </tr>\n",
       "    <tr>\n",
       "      <th>50%</th>\n",
       "      <td>1543.000000</td>\n",
       "      <td>5.000000</td>\n",
       "      <td>3.000000</td>\n",
       "      <td>4.000000</td>\n",
       "      <td>3.000000</td>\n",
       "      <td>6.600000e+06</td>\n",
       "    </tr>\n",
       "    <tr>\n",
       "      <th>75%</th>\n",
       "      <td>1784.000000</td>\n",
       "      <td>10.000000</td>\n",
       "      <td>4.000000</td>\n",
       "      <td>5.000000</td>\n",
       "      <td>4.000000</td>\n",
       "      <td>1.050000e+07</td>\n",
       "    </tr>\n",
       "    <tr>\n",
       "      <th>max</th>\n",
       "      <td>4856.000000</td>\n",
       "      <td>15.000000</td>\n",
       "      <td>18.000000</td>\n",
       "      <td>29.000000</td>\n",
       "      <td>18.000000</td>\n",
       "      <td>4.750000e+07</td>\n",
       "    </tr>\n",
       "  </tbody>\n",
       "</table>\n",
       "</div>"
      ],
      "text/plain": [
       "              sqft     yearsOld        floor   totalFloor          bhk  \\\n",
       "count  3500.000000  3500.000000  3500.000000  3500.000000  3500.000000   \n",
       "mean   1538.163143     7.602000     4.197714     6.371429     4.197714   \n",
       "std     416.264178     3.803196     4.782410     4.461808     4.782410   \n",
       "min    1019.000000     1.000000     1.000000     4.000000     1.000000   \n",
       "25%    1200.000000     5.000000     1.000000     4.000000     1.000000   \n",
       "50%    1543.000000     5.000000     3.000000     4.000000     3.000000   \n",
       "75%    1784.000000    10.000000     4.000000     5.000000     4.000000   \n",
       "max    4856.000000    15.000000    18.000000    29.000000    18.000000   \n",
       "\n",
       "              price  \n",
       "count  3.500000e+03  \n",
       "mean   8.067807e+06  \n",
       "std    4.984973e+06  \n",
       "min    3.800000e+06  \n",
       "25%    4.800000e+06  \n",
       "50%    6.600000e+06  \n",
       "75%    1.050000e+07  \n",
       "max    4.750000e+07  "
      ]
     },
     "execution_count": 7,
     "metadata": {},
     "output_type": "execute_result"
    }
   ],
   "source": [
    "data.describe()"
   ]
  },
  {
   "cell_type": "code",
   "execution_count": 8,
   "metadata": {
    "scrolled": true
   },
   "outputs": [
    {
     "data": {
      "text/plain": [
       "5     1430\n",
       "10    1403\n",
       "15     340\n",
       "1      327\n",
       "Name: yearsOld, dtype: int64"
      ]
     },
     "execution_count": 8,
     "metadata": {},
     "output_type": "execute_result"
    }
   ],
   "source": [
    "# yearsOld value counts\n",
    "data['yearsOld'].value_counts()"
   ]
  },
  {
   "cell_type": "code",
   "execution_count": 9,
   "metadata": {},
   "outputs": [
    {
     "data": {
      "text/plain": [
       "Resale    3500\n",
       "Name: sale, dtype: int64"
      ]
     },
     "execution_count": 9,
     "metadata": {},
     "output_type": "execute_result"
    }
   ],
   "source": [
    "# sale value counts\n",
    "data['sale'].value_counts()"
   ]
  },
  {
   "cell_type": "code",
   "execution_count": 10,
   "metadata": {},
   "outputs": [
    {
     "data": {
      "text/plain": [
       "3     1057\n",
       "1     1041\n",
       "6      368\n",
       "2      345\n",
       "4      340\n",
       "18     323\n",
       "15      17\n",
       "17       9\n",
       "Name: floor, dtype: int64"
      ]
     },
     "execution_count": 10,
     "metadata": {},
     "output_type": "execute_result"
    }
   ],
   "source": [
    "# floor value counts\n",
    "data['floor'].value_counts()"
   ]
  },
  {
   "cell_type": "code",
   "execution_count": 11,
   "metadata": {},
   "outputs": [
    {
     "data": {
      "text/plain": [
       "4     1761\n",
       "5     1022\n",
       "10     368\n",
       "18     323\n",
       "23      17\n",
       "29       9\n",
       "Name: totalFloor, dtype: int64"
      ]
     },
     "execution_count": 11,
     "metadata": {},
     "output_type": "execute_result"
    }
   ],
   "source": [
    "# totalFloor value counts\n",
    "data['totalFloor'].value_counts()"
   ]
  },
  {
   "cell_type": "code",
   "execution_count": 12,
   "metadata": {},
   "outputs": [
    {
     "data": {
      "text/plain": [
       "3     1057\n",
       "1     1041\n",
       "6      368\n",
       "2      345\n",
       "4      340\n",
       "18     323\n",
       "15      17\n",
       "17       9\n",
       "Name: bhk, dtype: int64"
      ]
     },
     "execution_count": 12,
     "metadata": {},
     "output_type": "execute_result"
    }
   ],
   "source": [
    "# bhk value counts\n",
    "data['bhk'].value_counts()"
   ]
  },
  {
   "cell_type": "code",
   "execution_count": 13,
   "metadata": {},
   "outputs": [
    {
     "data": {
      "text/plain": [
       "Super built-up  Area    3148\n",
       "Built-up  Area           352\n",
       "Name: built, dtype: int64"
      ]
     },
     "execution_count": 13,
     "metadata": {},
     "output_type": "execute_result"
    }
   ],
   "source": [
    "# built value counts\n",
    "data['built'].value_counts()"
   ]
  },
  {
   "cell_type": "code",
   "execution_count": 14,
   "metadata": {},
   "outputs": [
    {
     "data": {
      "text/plain": [
       "Devarabeesana Halli         368\n",
       "KR Puram                    358\n",
       "BTM Layout                  356\n",
       "Abbaiah Reddy Layout        352\n",
       "Electronics City Phase 1    351\n",
       "Ambalipura                  340\n",
       "Yelahanka                   337\n",
       "Whitefield                  327\n",
       "Subramanyapura              323\n",
       "Yelachenahalli              321\n",
       "Sarakki Nagar                18\n",
       "Malleshwaram                 17\n",
       "Gunjur                       12\n",
       "Frazer Town                  11\n",
       "Rajaji Nagar                  9\n",
       "Name: place, dtype: int64"
      ]
     },
     "execution_count": 14,
     "metadata": {},
     "output_type": "execute_result"
    }
   ],
   "source": [
    "# place value counts\n",
    "data['place'].value_counts()"
   ]
  },
  {
   "cell_type": "code",
   "execution_count": 15,
   "metadata": {},
   "outputs": [
    {
     "data": {
      "text/plain": [
       "price         1.000000\n",
       "sqft          0.778364\n",
       "totalFloor    0.402256\n",
       "bhk           0.263472\n",
       "floor         0.263472\n",
       "yearsOld      0.215712\n",
       "Name: price, dtype: float64"
      ]
     },
     "execution_count": 15,
     "metadata": {},
     "output_type": "execute_result"
    }
   ],
   "source": [
    "# checking correlation of price data\n",
    "corr = data.corr()\n",
    "corr['price'].sort_values(ascending = False)"
   ]
  },
  {
   "cell_type": "markdown",
   "metadata": {},
   "source": [
    "# Visulization"
   ]
  },
  {
   "cell_type": "code",
   "execution_count": 16,
   "metadata": {},
   "outputs": [
    {
     "data": {
      "text/plain": [
       "array([[<AxesSubplot:title={'center':'sqft'}>,\n",
       "        <AxesSubplot:title={'center':'yearsOld'}>],\n",
       "       [<AxesSubplot:title={'center':'floor'}>,\n",
       "        <AxesSubplot:title={'center':'totalFloor'}>],\n",
       "       [<AxesSubplot:title={'center':'bhk'}>,\n",
       "        <AxesSubplot:title={'center':'price'}>]], dtype=object)"
      ]
     },
     "execution_count": 16,
     "metadata": {},
     "output_type": "execute_result"
    },
    {
     "data": {
      "image/png": "[encoded data removed]",
      "text/plain": [
       "<Figure size 1008x1008 with 6 Axes>"
      ]
     },
     "metadata": {
      "needs_background": "light"
     },
     "output_type": "display_data"
    }
   ],
   "source": [
    "data.hist(figsize=(14,14))"
   ]
  },
  {
   "cell_type": "code",
   "execution_count": 17,
   "metadata": {},
   "outputs": [
    {
     "data": {
      "image/png": "[encoded data removed]",
      "text/plain": [
       "<Figure size 1296x432 with 1 Axes>"
      ]
     },
     "metadata": {
      "needs_background": "light"
     },
     "output_type": "display_data"
    }
   ],
   "source": [
    "fig, ax = plt.subplots(figsize=(18,6))\n",
    "sns.countplot(data['price'])\n",
    "plt.show()"
   ]
  },
  {
   "cell_type": "code",
   "execution_count": 18,
   "metadata": {},
   "outputs": [
    {
     "data": {
      "image/png": "[encoded data removed]",
      "text/plain": [
       "<Figure size 432x288 with 1 Axes>"
      ]
     },
     "metadata": {
      "needs_background": "light"
     },
     "output_type": "display_data"
    }
   ],
   "source": [
    "sns.countplot(data['bhk'])\n",
    "plt.show()"
   ]
  },
  {
   "cell_type": "code",
   "execution_count": 19,
   "metadata": {
    "scrolled": true
   },
   "outputs": [
    {
     "data": {
      "image/png": "[encoded data removed]",
      "text/plain": [
       "<Figure size 432x288 with 1 Axes>"
      ]
     },
     "metadata": {
      "needs_background": "light"
     },
     "output_type": "display_data"
    }
   ],
   "source": [
    "sns.countplot(data['totalFloor'])\n",
    "plt.show()"
   ]
  },
  {
   "cell_type": "code",
   "execution_count": 20,
   "metadata": {
    "scrolled": true
   },
   "outputs": [
    {
     "data": {
      "image/png": "[encoded data removed]",
      "text/plain": [
       "<Figure size 432x288 with 1 Axes>"
      ]
     },
     "metadata": {
      "needs_background": "light"
     },
     "output_type": "display_data"
    }
   ],
   "source": [
    "sns.countplot(data['floor'])\n",
    "plt.show()"
   ]
  },
  {
   "cell_type": "code",
   "execution_count": 21,
   "metadata": {},
   "outputs": [
    {
     "data": {
      "image/png": "[encoded data removed]",
      "text/plain": [
       "<Figure size 432x288 with 1 Axes>"
      ]
     },
     "metadata": {
      "needs_background": "light"
     },
     "output_type": "display_data"
    }
   ],
   "source": [
    "sns.countplot(data['yearsOld'])\n",
    "plt.show()"
   ]
  },
  {
   "cell_type": "code",
   "execution_count": 22,
   "metadata": {
    "scrolled": true
   },
   "outputs": [
    {
     "data": {
      "image/png": "[encoded data removed]",
      "text/plain": [
       "<Figure size 432x288 with 1 Axes>"
      ]
     },
     "metadata": {
      "needs_background": "light"
     },
     "output_type": "display_data"
    }
   ],
   "source": [
    "sns.countplot(data['built'])\n",
    "plt.show()"
   ]
  },
  {
   "cell_type": "code",
   "execution_count": 23,
   "metadata": {
    "scrolled": true
   },
   "outputs": [
    {
     "data": {
      "text/plain": [
       "<AxesSubplot:xlabel='floor', ylabel='price'>"
      ]
     },
     "execution_count": 23,
     "metadata": {},
     "output_type": "execute_result"
    },
    {
     "data": {
      "image/png": "[encoded data removed]",
      "text/plain": [
       "<Figure size 432x288 with 1 Axes>"
      ]
     },
     "metadata": {
      "needs_background": "light"
     },
     "output_type": "display_data"
    }
   ],
   "source": [
    "\n",
    "sns.barplot(data['floor'],data['price'])"
   ]
  },
  {
   "cell_type": "code",
   "execution_count": 24,
   "metadata": {},
   "outputs": [
    {
     "data": {
      "text/plain": [
       "<AxesSubplot:xlabel='built', ylabel='price'>"
      ]
     },
     "execution_count": 24,
     "metadata": {},
     "output_type": "execute_result"
    },
    {
     "data": {
      "image/png": "[encoded data removed]",
      "text/plain": [
       "<Figure size 432x288 with 1 Axes>"
      ]
     },
     "metadata": {
      "needs_background": "light"
     },
     "output_type": "display_data"
    }
   ],
   "source": [
    "sns.barplot(data['built'],data['price'])"
   ]
  },
  {
   "cell_type": "code",
   "execution_count": 25,
   "metadata": {},
   "outputs": [
    {
     "data": {
      "text/plain": [
       "<AxesSubplot:xlabel='yearsOld', ylabel='place'>"
      ]
     },
     "execution_count": 25,
     "metadata": {},
     "output_type": "execute_result"
    },
    {
     "data": {
      "image/png": "[encoded data removed]",
      "text/plain": [
       "<Figure size 1296x432 with 1 Axes>"
      ]
     },
     "metadata": {
      "needs_background": "light"
     },
     "output_type": "display_data"
    }
   ],
   "source": [
    "fig, ax = plt.subplots(figsize=(18,6))\n",
    "sns.barplot(data['yearsOld'],data['place'],hue=data['price'])"
   ]
  },
  {
   "cell_type": "code",
   "execution_count": 26,
   "metadata": {},
   "outputs": [
    {
     "data": {
      "text/plain": [
       "<AxesSubplot:xlabel='bhk', ylabel='place'>"
      ]
     },
     "execution_count": 26,
     "metadata": {},
     "output_type": "execute_result"
    },
    {
     "data": {
      "image/png": "[encoded data removed]",
      "text/plain": [
       "<Figure size 1296x432 with 1 Axes>"
      ]
     },
     "metadata": {
      "needs_background": "light"
     },
     "output_type": "display_data"
    }
   ],
   "source": [
    "fig, ax = plt.subplots(figsize=(18,6))\n",
    "sns.barplot(data['bhk'],data['place'],hue=data['price'])"
   ]
  },
  {
   "cell_type": "code",
   "execution_count": 27,
   "metadata": {},
   "outputs": [
    {
     "data": {
      "text/plain": [
       "<AxesSubplot:xlabel='totalFloor', ylabel='place'>"
      ]
     },
     "execution_count": 27,
     "metadata": {},
     "output_type": "execute_result"
    },
    {
     "data": {
      "image/png": "[encoded data removed]",
      "text/plain": [
       "<Figure size 1296x432 with 1 Axes>"
      ]
     },
     "metadata": {
      "needs_background": "light"
     },
     "output_type": "display_data"
    }
   ],
   "source": [
    "fig, ax = plt.subplots(figsize=(18,6))\n",
    "sns.barplot(data['totalFloor'],data['place'],hue=data['price'])"
   ]
  },
  {
   "cell_type": "code",
   "execution_count": 28,
   "metadata": {},
   "outputs": [
    {
     "data": {
      "image/png": "[encoded data removed]",
      "text/plain": [
       "<Figure size 1008x720 with 2 Axes>"
      ]
     },
     "metadata": {
      "needs_background": "light"
     },
     "output_type": "display_data"
    }
   ],
   "source": [
    "# heatmap\n",
    "plt.figure(figsize=(14,10))\n",
    "sns.heatmap(data.corr(), linewidths=.01, annot = True, cmap='GnBu')\n",
    "plt.show()"
   ]
  },
  {
   "cell_type": "markdown",
   "metadata": {},
   "source": [
    "# Data preprocessing"
   ]
  },
  {
   "cell_type": "code",
   "execution_count": 29,
   "metadata": {},
   "outputs": [],
   "source": [
    "x = data.loc[:,['sqft','yearsOld','floor']]\n",
    "y = data.price"
   ]
  },
  {
   "cell_type": "code",
   "execution_count": 30,
   "metadata": {},
   "outputs": [],
   "source": [
    "x_train,x_test,y_train,y_test = train_test_split(x,y,test_size=0.2,random_state=10)"
   ]
  },
  {
   "cell_type": "code",
   "execution_count": 31,
   "metadata": {},
   "outputs": [
    {
     "data": {
      "text/plain": [
       "(2800, 3)"
      ]
     },
     "execution_count": 31,
     "metadata": {},
     "output_type": "execute_result"
    }
   ],
   "source": [
    "x_train.shape"
   ]
  },
  {
   "cell_type": "code",
   "execution_count": 32,
   "metadata": {},
   "outputs": [
    {
     "data": {
      "text/plain": [
       "(700, 3)"
      ]
     },
     "execution_count": 32,
     "metadata": {},
     "output_type": "execute_result"
    }
   ],
   "source": [
    "x_test.shape"
   ]
  },
  {
   "cell_type": "code",
   "execution_count": 33,
   "metadata": {},
   "outputs": [
    {
     "data": {
      "text/plain": [
       "0.6097240587682835"
      ]
     },
     "execution_count": 33,
     "metadata": {},
     "output_type": "execute_result"
    }
   ],
   "source": [
    "# Linear regression\n",
    "model = LinearRegression()\n",
    "model.fit(x_train,y_train)\n",
    "y_predict = model.predict(x_test)\n",
    "r2_score(y_test,y_predict)"
   ]
  },
  {
   "cell_type": "code",
   "execution_count": 34,
   "metadata": {},
   "outputs": [
    {
     "data": {
      "text/plain": [
       "2509     4025000\n",
       "3344    15000000\n",
       "1361     6300000\n",
       "188      6300000\n",
       "1707    15000000\n",
       "          ...   \n",
       "2152     7350000\n",
       "1036    11500000\n",
       "2732    10500000\n",
       "2475    11500000\n",
       "1885    11500000\n",
       "Name: price, Length: 700, dtype: int64"
      ]
     },
     "execution_count": 34,
     "metadata": {},
     "output_type": "execute_result"
    }
   ],
   "source": [
    "y_test"
   ]
  },
  {
   "cell_type": "code",
   "execution_count": 35,
   "metadata": {},
   "outputs": [
    {
     "data": {
      "text/plain": [
       "array([ 8225994.03147548,  9376544.25436546,  7141036.14221367,\n",
       "        7141036.14221367,  9376544.25436546,  3887241.1567504 ,\n",
       "        6287755.9271669 ,  6287755.9271669 ,  8225994.03147548,\n",
       "        2950589.37995695,  9999653.53319159,  5088885.05386256,\n",
       "        7141036.14221367,  7141036.14221367,  3887241.1567504 ,\n",
       "       11362065.26094584,  8225994.03147548, 11362065.26094584,\n",
       "       11362065.26094584,  9376544.25436546,  5088885.05386256,\n",
       "        2950589.37995695, 11362065.26094584,  3887241.1567504 ,\n",
       "        9999653.53319159,  8225994.03147548,  8225994.03147548,\n",
       "       11362065.26094584,  8225994.03147548,  9999653.53319159,\n",
       "        9999653.53319159,  7141036.14221367,  7141036.14221367,\n",
       "        9376544.25436546,  3887241.1567504 ,  7141036.14221367,\n",
       "        2950589.37995695, 11362065.26094584,  9999653.53319159,\n",
       "       11362065.26094584,  2950589.37995695,  5088885.05386256,\n",
       "        6287755.9271669 , 11362065.26094584,  8225994.03147548,\n",
       "        9999653.53319159,  8225994.03147548,  5088885.05386256,\n",
       "        3887241.1567504 ,  9999653.53319159,  9376544.25436546,\n",
       "        2950589.37995695,  6287755.9271669 , 13939312.32522521,\n",
       "        3887241.1567504 ,  5088885.05386256,  8225994.03147548,\n",
       "       13939312.32522521,  6287755.9271669 ,  9999653.53319159,\n",
       "        9999653.53319159, 13939312.32522521,  5088885.05386256,\n",
       "       11362065.26094584,  9376544.25436546,  6287755.9271669 ,\n",
       "        9376544.25436546,  9376544.25436546,  3887241.1567504 ,\n",
       "        6274160.27997823,  7141036.14221367,  6287755.9271669 ,\n",
       "        7141036.14221367,  9376544.25436546,  3887241.1567504 ,\n",
       "        5088885.05386256, 13939312.32522521,  7141036.14221367,\n",
       "        9999653.53319159,  9376544.25436546,  3887241.1567504 ,\n",
       "        2950589.37995695,  3887241.1567504 ,  9376544.25436546,\n",
       "        2950589.37995695, 13939312.32522521,  7141036.14221367,\n",
       "       13939312.32522521,  3887241.1567504 ,  9999653.53319159,\n",
       "       13939312.32522521,  5088885.05386256,  9376544.25436546,\n",
       "        9999653.53319159, 11362065.26094584,  2950589.37995695,\n",
       "        7141036.14221367,  6287755.9271669 ,  9376544.25436546,\n",
       "        5088885.05386256,  9999653.53319159,  6287755.9271669 ,\n",
       "        3887241.1567504 ,  7141036.14221367,  3887241.1567504 ,\n",
       "       13939312.32522521,  2950589.37995695,  5088885.05386256,\n",
       "        6287755.9271669 ,  5088885.05386256, 11362065.26094584,\n",
       "        6287755.9271669 ,  9376544.25436546,  3887241.1567504 ,\n",
       "        9999653.53319159,  9376544.25436546,  6287755.9271669 ,\n",
       "        7141036.14221367,  3887241.1567504 ,  9999653.53319159,\n",
       "       11362065.26094584,  3887241.1567504 ,  3887241.1567504 ,\n",
       "        9999653.53319159, 11362065.26094584, 13939312.32522521,\n",
       "       11362065.26094584,  7141036.14221367,  7141036.14221367,\n",
       "        5088885.05386256,  2950589.37995695,  6287755.9271669 ,\n",
       "        9999653.53319159,  9999653.53319159, 13939312.32522521,\n",
       "       13939312.32522521, 11362065.26094584,  3887241.1567504 ,\n",
       "        9999653.53319159, 13939312.32522521,  7141036.14221367,\n",
       "        3887241.1567504 ,  6287755.9271669 ,  7141036.14221367,\n",
       "        9376544.25436546,  2950589.37995695,  3887241.1567504 ,\n",
       "        7141036.14221367,  9999653.53319159,  8225994.03147548,\n",
       "        9999653.53319159,  9376544.25436546,  7141036.14221367,\n",
       "        6287755.9271669 ,  3887241.1567504 ,  8225994.03147548,\n",
       "        9999653.53319159,  8225994.03147548,  8225994.03147548,\n",
       "        9376544.25436546,  7141036.14221367,  8225994.03147548,\n",
       "        5088885.05386256,  7141036.14221367,  6274160.27997823,\n",
       "        7141036.14221367, 13939312.32522521, 13939312.32522521,\n",
       "        6287755.9271669 ,  2950589.37995695,  6287755.9271669 ,\n",
       "       11362065.26094584,  5088885.05386256, 11362065.26094584,\n",
       "       13939312.32522521, 11362065.26094584, 11362065.26094584,\n",
       "        9999653.53319159,  6287755.9271669 , 13939312.32522521,\n",
       "        3887241.1567504 ,  8225994.03147548,  6287755.9271669 ,\n",
       "       13939312.32522521,  9376544.25436546,  8225994.03147548,\n",
       "        8225994.03147548,  9376544.25436546,  9376544.25436546,\n",
       "        2950589.37995695, 13939312.32522521,  9376544.25436546,\n",
       "        6287755.9271669 ,  3887241.1567504 ,  2950589.37995695,\n",
       "       13939312.32522521,  9999653.53319159,  6287755.9271669 ,\n",
       "        9376544.25436546,  3887241.1567504 ,  9999653.53319159,\n",
       "        9376544.25436546,  5088885.05386256, 11362065.26094584,\n",
       "        8225994.03147548, 11362065.26094584,  6287755.9271669 ,\n",
       "        8225994.03147548,  2950589.37995695, 13939312.32522521,\n",
       "        6287755.9271669 ,  2950589.37995695,  8225994.03147548,\n",
       "        7141036.14221367,  8225994.03147548,  9376544.25436546,\n",
       "       16411211.89575973,  8225994.03147548, 13939312.32522521,\n",
       "        9376544.25436546, 11362065.26094584,  7141036.14221367,\n",
       "        6287755.9271669 ,  2950589.37995695,  9999653.53319159,\n",
       "       16411211.89575973,  2950589.37995695,  8225994.03147548,\n",
       "        9999653.53319159,  3887241.1567504 ,  5088885.05386256,\n",
       "       13939312.32522521,  5088885.05386256, 26077556.09106087,\n",
       "       11362065.26094584,  2950589.37995695,  2950589.37995695,\n",
       "        9376544.25436546,  7141036.14221367, 38778757.13345441,\n",
       "        3887241.1567504 ,  5088885.05386256,  5088885.05386256,\n",
       "        5088885.05386256,  2950589.37995695, 11362065.26094584,\n",
       "        6287755.9271669 ,  3887241.1567504 ,  2950589.37995695,\n",
       "        9999653.53319159,  7141036.14221367,  8225994.03147548,\n",
       "        7141036.14221367,  5088885.05386256,  8225994.03147548,\n",
       "        5088885.05386256,  2950589.37995695,  8225994.03147548,\n",
       "        8225994.03147548,  6274160.27997823,  3887241.1567504 ,\n",
       "        8225994.03147548,  8225994.03147548,  7141036.14221367,\n",
       "        2950589.37995695, 11362065.26094584,  5088885.05386256,\n",
       "        9999653.53319159,  6287755.9271669 ,  6287755.9271669 ,\n",
       "        3887241.1567504 ,  3887241.1567504 ,  9376544.25436546,\n",
       "        3887241.1567504 ,  2950589.37995695, 16411211.89575973,\n",
       "       13939312.32522521,  9376544.25436546,  9999653.53319159,\n",
       "       13939312.32522521,  7141036.14221367,  3887241.1567504 ,\n",
       "        2950589.37995695,  6287755.9271669 ,  8225994.03147548,\n",
       "        9999653.53319159, 13939312.32522521,  8225994.03147548,\n",
       "        9376544.25436546,  5088885.05386256,  9999653.53319159,\n",
       "        9376544.25436546,  8225994.03147548,  3887241.1567504 ,\n",
       "        5088885.05386256,  3887241.1567504 , 11362065.26094584,\n",
       "        8225994.03147548, 13939312.32522521, 11362065.26094584,\n",
       "        8225994.03147548,  7141036.14221367,  3887241.1567504 ,\n",
       "        3887241.1567504 ,  9376544.25436546,  9376544.25436546,\n",
       "        3887241.1567504 ,  2950589.37995695,  3887241.1567504 ,\n",
       "       11362065.26094584,  8225994.03147548,  2950589.37995695,\n",
       "        2950589.37995695,  3887241.1567504 ,  5088885.05386256,\n",
       "        5088885.05386256,  9376544.25436546,  3887241.1567504 ,\n",
       "        8225994.03147548,  5088885.05386256,  9376544.25436546,\n",
       "        9999653.53319159,  8225994.03147548,  5088885.05386256,\n",
       "       13939312.32522521,  2950589.37995695,  9999653.53319159,\n",
       "        9999653.53319159,  7141036.14221367,  3887241.1567504 ,\n",
       "        8225994.03147548,  3887241.1567504 ,  2950589.37995695,\n",
       "       13939312.32522521,  6287755.9271669 ,  9376544.25436546,\n",
       "        3887241.1567504 , 11362065.26094584,  9999653.53319159,\n",
       "        9376544.25436546,  5088885.05386256,  5088885.05386256,\n",
       "        2950589.37995695,  9376544.25436546,  9376544.25436546,\n",
       "        6287755.9271669 , 16811191.1094652 ,  9376544.25436546,\n",
       "        9999653.53319159, 11362065.26094584,  5088885.05386256,\n",
       "       13939312.32522521,  7141036.14221367, 11362065.26094584,\n",
       "        9999653.53319159,  9376544.25436546, 13939312.32522521,\n",
       "        8225994.03147548,  2950589.37995695,  2950589.37995695,\n",
       "        3887241.1567504 ,  2950589.37995695,  5088885.05386256,\n",
       "        6287755.9271669 ,  2950589.37995695,  3887241.1567504 ,\n",
       "        6287755.9271669 ,  3887241.1567504 ,  5088885.05386256,\n",
       "        3887241.1567504 ,  8225994.03147548, 11362065.26094584,\n",
       "        3887241.1567504 ,  8225994.03147548,  3887241.1567504 ,\n",
       "        3887241.1567504 ,  3887241.1567504 ,  2950589.37995695,\n",
       "        8225994.03147548,  8225994.03147548,  2950589.37995695,\n",
       "       11362065.26094584,  8225994.03147548, 13939312.32522521,\n",
       "       13939312.32522521,  6287755.9271669 ,  8225994.03147548,\n",
       "        5088885.05386256,  2950589.37995695,  2950589.37995695,\n",
       "       13939312.32522521, 11362065.26094584,  2950589.37995695,\n",
       "       13939312.32522521,  3887241.1567504 ,  5088885.05386256,\n",
       "        3887241.1567504 ,  2950589.37995695,  6287755.9271669 ,\n",
       "        7141036.14221367,  8225994.03147548,  2950589.37995695,\n",
       "        6287755.9271669 , 11362065.26094584, 13939312.32522521,\n",
       "        7141036.14221367,  3887241.1567504 , 13939312.32522521,\n",
       "        8225994.03147548,  7141036.14221367,  9376544.25436546,\n",
       "        5088885.05386256,  7141036.14221367,  9376544.25436546,\n",
       "        7141036.14221367,  2950589.37995695,  2950589.37995695,\n",
       "        6287755.9271669 ,  3887241.1567504 ,  2950589.37995695,\n",
       "        9376544.25436546,  7141036.14221367, 13939312.32522521,\n",
       "        2950589.37995695,  5088885.05386256,  6287755.9271669 ,\n",
       "        3887241.1567504 ,  7141036.14221367,  5088885.05386256,\n",
       "       11362065.26094584,  5088885.05386256,  9999653.53319159,\n",
       "        3887241.1567504 ,  8225994.03147548,  9999653.53319159,\n",
       "       13939312.32522521,  5088885.05386256,  3887241.1567504 ,\n",
       "        6287755.9271669 ,  2950589.37995695, 11362065.26094584,\n",
       "        3887241.1567504 ,  9376544.25436546,  2950589.37995695,\n",
       "        6287755.9271669 ,  5088885.05386256,  5088885.05386256,\n",
       "        2950589.37995695,  9376544.25436546,  9999653.53319159,\n",
       "        9376544.25436546,  9999653.53319159,  5088885.05386256,\n",
       "        8225994.03147548, 11362065.26094584, 11362065.26094584,\n",
       "        7141036.14221367,  9999653.53319159,  7141036.14221367,\n",
       "        8225994.03147548,  8225994.03147548,  3887241.1567504 ,\n",
       "        5088885.05386256,  8225994.03147548, 38778757.13345441,\n",
       "       11362065.26094584,  3887241.1567504 ,  7141036.14221367,\n",
       "       13939312.32522521,  3887241.1567504 ,  7141036.14221367,\n",
       "        7141036.14221367,  9376544.25436546,  9376544.25436546,\n",
       "       11362065.26094584,  6287755.9271669 ,  5088885.05386256,\n",
       "        5088885.05386256, 11362065.26094584,  9376544.25436546,\n",
       "        7141036.14221367,  3887241.1567504 ,  7141036.14221367,\n",
       "        8225994.03147548,  9999653.53319159,  9999653.53319159,\n",
       "        2950589.37995695, 11362065.26094584,  7141036.14221367,\n",
       "        9376544.25436546,  9376544.25436546,  8225994.03147548,\n",
       "       13939312.32522521,  7141036.14221367,  6287755.9271669 ,\n",
       "        2950589.37995695,  7141036.14221367,  6287755.9271669 ,\n",
       "        9376544.25436546,  7141036.14221367,  7141036.14221367,\n",
       "       13939312.32522521, 16811191.1094652 ,  7141036.14221367,\n",
       "       13939312.32522521,  2950589.37995695,  6274160.27997823,\n",
       "        5088885.05386256,  6287755.9271669 ,  7141036.14221367,\n",
       "        8225994.03147548,  8225994.03147548,  8225994.03147548,\n",
       "        9376544.25436546, 11362065.26094584,  3887241.1567504 ,\n",
       "        6287755.9271669 ,  9999653.53319159,  6287755.9271669 ,\n",
       "        5088885.05386256,  3887241.1567504 , 13939312.32522521,\n",
       "        6287755.9271669 ,  8225994.03147548,  6287755.9271669 ,\n",
       "        9376544.25436546,  6287755.9271669 , 11362065.26094584,\n",
       "        9376544.25436546,  2950589.37995695,  8225994.03147548,\n",
       "        3887241.1567504 ,  9376544.25436546,  9376544.25436546,\n",
       "        3887241.1567504 ,  3887241.1567504 ,  9376544.25436546,\n",
       "       11362065.26094584,  3887241.1567504 ,  9999653.53319159,\n",
       "        6287755.9271669 ,  9376544.25436546,  5088885.05386256,\n",
       "        2950589.37995695, 26077556.09106087,  9376544.25436546,\n",
       "        9999653.53319159, 11362065.26094584,  8225994.03147548,\n",
       "        2950589.37995695,  6287755.9271669 ,  7141036.14221367,\n",
       "        9999653.53319159, 16411211.89575973,  7141036.14221367,\n",
       "       13939312.32522521,  7141036.14221367,  9999653.53319159,\n",
       "        2950589.37995695, 11362065.26094584,  9999653.53319159,\n",
       "        5088885.05386256,  2950589.37995695,  2950589.37995695,\n",
       "       11362065.26094584,  2950589.37995695,  9376544.25436546,\n",
       "        6287755.9271669 ,  9999653.53319159,  7141036.14221367,\n",
       "        2950589.37995695,  9999653.53319159,  9999653.53319159,\n",
       "        5088885.05386256,  6287755.9271669 ,  8225994.03147548,\n",
       "        5088885.05386256,  5088885.05386256,  3887241.1567504 ,\n",
       "        2950589.37995695,  7141036.14221367,  6287755.9271669 ,\n",
       "        3887241.1567504 ,  5088885.05386256, 11362065.26094584,\n",
       "       13939312.32522521,  9999653.53319159,  6287755.9271669 ,\n",
       "       11362065.26094584,  3887241.1567504 ,  7141036.14221367,\n",
       "        2950589.37995695, 13939312.32522521,  9376544.25436546,\n",
       "        9376544.25436546, 13939312.32522521, 13939312.32522521,\n",
       "        9999653.53319159,  7141036.14221367,  9999653.53319159,\n",
       "       11362065.26094584,  8225994.03147548, 11362065.26094584,\n",
       "        8225994.03147548, 11362065.26094584,  9376544.25436546,\n",
       "       16411211.89575973,  7141036.14221367,  5088885.05386256,\n",
       "        9999653.53319159,  9376544.25436546,  9376544.25436546,\n",
       "        5088885.05386256,  5088885.05386256,  6287755.9271669 ,\n",
       "       13939312.32522521,  7141036.14221367,  9376544.25436546,\n",
       "        3887241.1567504 ,  9999653.53319159,  9376544.25436546,\n",
       "        9999653.53319159,  9376544.25436546,  6287755.9271669 ,\n",
       "        3887241.1567504 ,  2950589.37995695,  2950589.37995695,\n",
       "        5088885.05386256,  6287755.9271669 ,  7141036.14221367,\n",
       "        6287755.9271669 ,  9376544.25436546,  3887241.1567504 ,\n",
       "        2950589.37995695,  9376544.25436546,  3887241.1567504 ,\n",
       "        7141036.14221367,  7141036.14221367,  3887241.1567504 ,\n",
       "        5088885.05386256,  2950589.37995695,  5088885.05386256,\n",
       "        6287755.9271669 ,  8225994.03147548, 13939312.32522521,\n",
       "        9999653.53319159, 13939312.32522521, 16411211.89575973,\n",
       "        8225994.03147548,  3887241.1567504 ,  6287755.9271669 ,\n",
       "        8225994.03147548,  6287755.9271669 ,  5088885.05386256,\n",
       "        8225994.03147548,  7141036.14221367,  9999653.53319159,\n",
       "       13939312.32522521,  7141036.14221367,  8225994.03147548,\n",
       "        7141036.14221367, 13939312.32522521,  3887241.1567504 ,\n",
       "       13939312.32522521,  7141036.14221367,  9376544.25436546,\n",
       "       13939312.32522521, 11362065.26094584, 11362065.26094584,\n",
       "        8225994.03147548,  5088885.05386256,  2950589.37995695,\n",
       "        9999653.53319159,  6287755.9271669 ,  5088885.05386256,\n",
       "        6287755.9271669 ,  9376544.25436546,  3887241.1567504 ,\n",
       "        5088885.05386256,  5088885.05386256,  9999653.53319159,\n",
       "        6274160.27997823, 13939312.32522521, 13939312.32522521,\n",
       "       11362065.26094584, 11362065.26094584, 11362065.26094584,\n",
       "        2950589.37995695,  2950589.37995695,  6287755.9271669 ,\n",
       "       11362065.26094584,  6287755.9271669 ,  6287755.9271669 ,\n",
       "        6287755.9271669 ,  6287755.9271669 ,  6287755.9271669 ,\n",
       "       13939312.32522521, 11362065.26094584, 13939312.32522521,\n",
       "       13939312.32522521])"
      ]
     },
     "execution_count": 35,
     "metadata": {},
     "output_type": "execute_result"
    }
   ],
   "source": [
    "y_predict"
   ]
  },
  {
   "cell_type": "code",
   "execution_count": 36,
   "metadata": {
    "scrolled": true
   },
   "outputs": [
    {
     "data": {
      "text/html": [
       "<div>\n",
       "<style scoped>\n",
       "    .dataframe tbody tr th:only-of-type {\n",
       "        vertical-align: middle;\n",
       "    }\n",
       "\n",
       "    .dataframe tbody tr th {\n",
       "        vertical-align: top;\n",
       "    }\n",
       "\n",
       "    .dataframe thead th {\n",
       "        text-align: right;\n",
       "    }\n",
       "</style>\n",
       "<table border=\"1\" class=\"dataframe\">\n",
       "  <thead>\n",
       "    <tr style=\"text-align: right;\">\n",
       "      <th>col_0</th>\n",
       "      <th>2.950589e+06</th>\n",
       "      <th>3.887241e+06</th>\n",
       "      <th>5.088885e+06</th>\n",
       "      <th>6.274160e+06</th>\n",
       "      <th>6.287756e+06</th>\n",
       "      <th>7.141036e+06</th>\n",
       "      <th>8.225994e+06</th>\n",
       "      <th>9.376544e+06</th>\n",
       "      <th>9.999654e+06</th>\n",
       "      <th>1.136207e+07</th>\n",
       "      <th>1.393931e+07</th>\n",
       "      <th>1.641121e+07</th>\n",
       "      <th>1.681119e+07</th>\n",
       "      <th>2.607756e+07</th>\n",
       "      <th>3.877876e+07</th>\n",
       "    </tr>\n",
       "    <tr>\n",
       "      <th>price</th>\n",
       "      <th></th>\n",
       "      <th></th>\n",
       "      <th></th>\n",
       "      <th></th>\n",
       "      <th></th>\n",
       "      <th></th>\n",
       "      <th></th>\n",
       "      <th></th>\n",
       "      <th></th>\n",
       "      <th></th>\n",
       "      <th></th>\n",
       "      <th></th>\n",
       "      <th></th>\n",
       "      <th></th>\n",
       "      <th></th>\n",
       "    </tr>\n",
       "  </thead>\n",
       "  <tbody>\n",
       "    <tr>\n",
       "      <th>3800000</th>\n",
       "      <td>70</td>\n",
       "      <td>0</td>\n",
       "      <td>0</td>\n",
       "      <td>0</td>\n",
       "      <td>0</td>\n",
       "      <td>0</td>\n",
       "      <td>0</td>\n",
       "      <td>0</td>\n",
       "      <td>0</td>\n",
       "      <td>0</td>\n",
       "      <td>0</td>\n",
       "      <td>0</td>\n",
       "      <td>0</td>\n",
       "      <td>0</td>\n",
       "      <td>0</td>\n",
       "    </tr>\n",
       "    <tr>\n",
       "      <th>4025000</th>\n",
       "      <td>0</td>\n",
       "      <td>0</td>\n",
       "      <td>0</td>\n",
       "      <td>0</td>\n",
       "      <td>0</td>\n",
       "      <td>0</td>\n",
       "      <td>69</td>\n",
       "      <td>0</td>\n",
       "      <td>0</td>\n",
       "      <td>0</td>\n",
       "      <td>0</td>\n",
       "      <td>0</td>\n",
       "      <td>0</td>\n",
       "      <td>0</td>\n",
       "      <td>0</td>\n",
       "    </tr>\n",
       "    <tr>\n",
       "      <th>4800000</th>\n",
       "      <td>0</td>\n",
       "      <td>0</td>\n",
       "      <td>66</td>\n",
       "      <td>0</td>\n",
       "      <td>0</td>\n",
       "      <td>0</td>\n",
       "      <td>0</td>\n",
       "      <td>0</td>\n",
       "      <td>0</td>\n",
       "      <td>0</td>\n",
       "      <td>0</td>\n",
       "      <td>0</td>\n",
       "      <td>0</td>\n",
       "      <td>0</td>\n",
       "      <td>0</td>\n",
       "    </tr>\n",
       "    <tr>\n",
       "      <th>4900000</th>\n",
       "      <td>0</td>\n",
       "      <td>80</td>\n",
       "      <td>0</td>\n",
       "      <td>0</td>\n",
       "      <td>0</td>\n",
       "      <td>0</td>\n",
       "      <td>0</td>\n",
       "      <td>0</td>\n",
       "      <td>0</td>\n",
       "      <td>0</td>\n",
       "      <td>0</td>\n",
       "      <td>0</td>\n",
       "      <td>0</td>\n",
       "      <td>0</td>\n",
       "      <td>0</td>\n",
       "    </tr>\n",
       "    <tr>\n",
       "      <th>6300000</th>\n",
       "      <td>0</td>\n",
       "      <td>0</td>\n",
       "      <td>0</td>\n",
       "      <td>0</td>\n",
       "      <td>0</td>\n",
       "      <td>70</td>\n",
       "      <td>0</td>\n",
       "      <td>0</td>\n",
       "      <td>0</td>\n",
       "      <td>0</td>\n",
       "      <td>0</td>\n",
       "      <td>0</td>\n",
       "      <td>0</td>\n",
       "      <td>0</td>\n",
       "      <td>0</td>\n",
       "    </tr>\n",
       "    <tr>\n",
       "      <th>6600000</th>\n",
       "      <td>0</td>\n",
       "      <td>0</td>\n",
       "      <td>0</td>\n",
       "      <td>5</td>\n",
       "      <td>0</td>\n",
       "      <td>0</td>\n",
       "      <td>0</td>\n",
       "      <td>0</td>\n",
       "      <td>0</td>\n",
       "      <td>0</td>\n",
       "      <td>0</td>\n",
       "      <td>0</td>\n",
       "      <td>0</td>\n",
       "      <td>0</td>\n",
       "      <td>0</td>\n",
       "    </tr>\n",
       "    <tr>\n",
       "      <th>7350000</th>\n",
       "      <td>0</td>\n",
       "      <td>0</td>\n",
       "      <td>0</td>\n",
       "      <td>0</td>\n",
       "      <td>69</td>\n",
       "      <td>0</td>\n",
       "      <td>0</td>\n",
       "      <td>0</td>\n",
       "      <td>0</td>\n",
       "      <td>0</td>\n",
       "      <td>0</td>\n",
       "      <td>0</td>\n",
       "      <td>0</td>\n",
       "      <td>0</td>\n",
       "      <td>0</td>\n",
       "    </tr>\n",
       "    <tr>\n",
       "      <th>7900000</th>\n",
       "      <td>0</td>\n",
       "      <td>0</td>\n",
       "      <td>0</td>\n",
       "      <td>0</td>\n",
       "      <td>0</td>\n",
       "      <td>0</td>\n",
       "      <td>0</td>\n",
       "      <td>0</td>\n",
       "      <td>64</td>\n",
       "      <td>0</td>\n",
       "      <td>0</td>\n",
       "      <td>0</td>\n",
       "      <td>0</td>\n",
       "      <td>0</td>\n",
       "      <td>0</td>\n",
       "    </tr>\n",
       "    <tr>\n",
       "      <th>10500000</th>\n",
       "      <td>0</td>\n",
       "      <td>0</td>\n",
       "      <td>0</td>\n",
       "      <td>0</td>\n",
       "      <td>0</td>\n",
       "      <td>0</td>\n",
       "      <td>0</td>\n",
       "      <td>0</td>\n",
       "      <td>0</td>\n",
       "      <td>61</td>\n",
       "      <td>0</td>\n",
       "      <td>0</td>\n",
       "      <td>0</td>\n",
       "      <td>0</td>\n",
       "      <td>0</td>\n",
       "    </tr>\n",
       "    <tr>\n",
       "      <th>11500000</th>\n",
       "      <td>0</td>\n",
       "      <td>0</td>\n",
       "      <td>0</td>\n",
       "      <td>0</td>\n",
       "      <td>0</td>\n",
       "      <td>0</td>\n",
       "      <td>0</td>\n",
       "      <td>0</td>\n",
       "      <td>0</td>\n",
       "      <td>0</td>\n",
       "      <td>60</td>\n",
       "      <td>0</td>\n",
       "      <td>0</td>\n",
       "      <td>0</td>\n",
       "      <td>0</td>\n",
       "    </tr>\n",
       "    <tr>\n",
       "      <th>15000000</th>\n",
       "      <td>0</td>\n",
       "      <td>0</td>\n",
       "      <td>0</td>\n",
       "      <td>0</td>\n",
       "      <td>0</td>\n",
       "      <td>0</td>\n",
       "      <td>0</td>\n",
       "      <td>74</td>\n",
       "      <td>0</td>\n",
       "      <td>0</td>\n",
       "      <td>0</td>\n",
       "      <td>0</td>\n",
       "      <td>0</td>\n",
       "      <td>0</td>\n",
       "      <td>0</td>\n",
       "    </tr>\n",
       "    <tr>\n",
       "      <th>29300000</th>\n",
       "      <td>0</td>\n",
       "      <td>0</td>\n",
       "      <td>0</td>\n",
       "      <td>0</td>\n",
       "      <td>0</td>\n",
       "      <td>0</td>\n",
       "      <td>0</td>\n",
       "      <td>0</td>\n",
       "      <td>0</td>\n",
       "      <td>0</td>\n",
       "      <td>0</td>\n",
       "      <td>6</td>\n",
       "      <td>0</td>\n",
       "      <td>0</td>\n",
       "      <td>0</td>\n",
       "    </tr>\n",
       "    <tr>\n",
       "      <th>32500000</th>\n",
       "      <td>0</td>\n",
       "      <td>0</td>\n",
       "      <td>0</td>\n",
       "      <td>0</td>\n",
       "      <td>0</td>\n",
       "      <td>0</td>\n",
       "      <td>0</td>\n",
       "      <td>0</td>\n",
       "      <td>0</td>\n",
       "      <td>0</td>\n",
       "      <td>0</td>\n",
       "      <td>0</td>\n",
       "      <td>2</td>\n",
       "      <td>0</td>\n",
       "      <td>0</td>\n",
       "    </tr>\n",
       "    <tr>\n",
       "      <th>39000000</th>\n",
       "      <td>0</td>\n",
       "      <td>0</td>\n",
       "      <td>0</td>\n",
       "      <td>0</td>\n",
       "      <td>0</td>\n",
       "      <td>0</td>\n",
       "      <td>0</td>\n",
       "      <td>0</td>\n",
       "      <td>0</td>\n",
       "      <td>0</td>\n",
       "      <td>0</td>\n",
       "      <td>0</td>\n",
       "      <td>0</td>\n",
       "      <td>0</td>\n",
       "      <td>2</td>\n",
       "    </tr>\n",
       "    <tr>\n",
       "      <th>47500000</th>\n",
       "      <td>0</td>\n",
       "      <td>0</td>\n",
       "      <td>0</td>\n",
       "      <td>0</td>\n",
       "      <td>0</td>\n",
       "      <td>0</td>\n",
       "      <td>0</td>\n",
       "      <td>0</td>\n",
       "      <td>0</td>\n",
       "      <td>0</td>\n",
       "      <td>0</td>\n",
       "      <td>0</td>\n",
       "      <td>0</td>\n",
       "      <td>2</td>\n",
       "      <td>0</td>\n",
       "    </tr>\n",
       "  </tbody>\n",
       "</table>\n",
       "</div>"
      ],
      "text/plain": [
       "col_0     2.950589e+06  3.887241e+06  5.088885e+06  6.274160e+06  \\\n",
       "price                                                              \n",
       "3800000             70             0             0             0   \n",
       "4025000              0             0             0             0   \n",
       "4800000              0             0            66             0   \n",
       "4900000              0            80             0             0   \n",
       "6300000              0             0             0             0   \n",
       "6600000              0             0             0             5   \n",
       "7350000              0             0             0             0   \n",
       "7900000              0             0             0             0   \n",
       "10500000             0             0             0             0   \n",
       "11500000             0             0             0             0   \n",
       "15000000             0             0             0             0   \n",
       "29300000             0             0             0             0   \n",
       "32500000             0             0             0             0   \n",
       "39000000             0             0             0             0   \n",
       "47500000             0             0             0             0   \n",
       "\n",
       "col_0     6.287756e+06  7.141036e+06  8.225994e+06  9.376544e+06  \\\n",
       "price                                                              \n",
       "3800000              0             0             0             0   \n",
       "4025000              0             0            69             0   \n",
       "4800000              0             0             0             0   \n",
       "4900000              0             0             0             0   \n",
       "6300000              0            70             0             0   \n",
       "6600000              0             0             0             0   \n",
       "7350000             69             0             0             0   \n",
       "7900000              0             0             0             0   \n",
       "10500000             0             0             0             0   \n",
       "11500000             0             0             0             0   \n",
       "15000000             0             0             0            74   \n",
       "29300000             0             0             0             0   \n",
       "32500000             0             0             0             0   \n",
       "39000000             0             0             0             0   \n",
       "47500000             0             0             0             0   \n",
       "\n",
       "col_0     9.999654e+06  1.136207e+07  1.393931e+07  1.641121e+07  \\\n",
       "price                                                              \n",
       "3800000              0             0             0             0   \n",
       "4025000              0             0             0             0   \n",
       "4800000              0             0             0             0   \n",
       "4900000              0             0             0             0   \n",
       "6300000              0             0             0             0   \n",
       "6600000              0             0             0             0   \n",
       "7350000              0             0             0             0   \n",
       "7900000             64             0             0             0   \n",
       "10500000             0            61             0             0   \n",
       "11500000             0             0            60             0   \n",
       "15000000             0             0             0             0   \n",
       "29300000             0             0             0             6   \n",
       "32500000             0             0             0             0   \n",
       "39000000             0             0             0             0   \n",
       "47500000             0             0             0             0   \n",
       "\n",
       "col_0     1.681119e+07  2.607756e+07  3.877876e+07  \n",
       "price                                               \n",
       "3800000              0             0             0  \n",
       "4025000              0             0             0  \n",
       "4800000              0             0             0  \n",
       "4900000              0             0             0  \n",
       "6300000              0             0             0  \n",
       "6600000              0             0             0  \n",
       "7350000              0             0             0  \n",
       "7900000              0             0             0  \n",
       "10500000             0             0             0  \n",
       "11500000             0             0             0  \n",
       "15000000             0             0             0  \n",
       "29300000             0             0             0  \n",
       "32500000             2             0             0  \n",
       "39000000             0             0             2  \n",
       "47500000             0             2             0  "
      ]
     },
     "execution_count": 36,
     "metadata": {},
     "output_type": "execute_result"
    }
   ],
   "source": [
    "pd.crosstab(y_test,y_predict)"
   ]
  },
  {
   "cell_type": "code",
   "execution_count": 37,
   "metadata": {},
   "outputs": [
    {
     "data": {
      "text/plain": [
       "1.0"
      ]
     },
     "execution_count": 37,
     "metadata": {},
     "output_type": "execute_result"
    }
   ],
   "source": [
    "# decision tree model\n",
    "model = DecisionTreeClassifier()\n",
    "model.fit(x_train,y_train)\n",
    "y_predict = model.predict(x_test)\n",
    "accuracy_score(y_test,y_predict)"
   ]
  },
  {
   "cell_type": "code",
   "execution_count": 38,
   "metadata": {},
   "outputs": [
    {
     "data": {
      "text/html": [
       "<div>\n",
       "<style scoped>\n",
       "    .dataframe tbody tr th:only-of-type {\n",
       "        vertical-align: middle;\n",
       "    }\n",
       "\n",
       "    .dataframe tbody tr th {\n",
       "        vertical-align: top;\n",
       "    }\n",
       "\n",
       "    .dataframe thead th {\n",
       "        text-align: right;\n",
       "    }\n",
       "</style>\n",
       "<table border=\"1\" class=\"dataframe\">\n",
       "  <thead>\n",
       "    <tr style=\"text-align: right;\">\n",
       "      <th>col_0</th>\n",
       "      <th>3800000</th>\n",
       "      <th>4025000</th>\n",
       "      <th>4800000</th>\n",
       "      <th>4900000</th>\n",
       "      <th>6300000</th>\n",
       "      <th>6600000</th>\n",
       "      <th>7350000</th>\n",
       "      <th>7900000</th>\n",
       "      <th>10500000</th>\n",
       "      <th>11500000</th>\n",
       "      <th>15000000</th>\n",
       "      <th>29300000</th>\n",
       "      <th>32500000</th>\n",
       "      <th>39000000</th>\n",
       "      <th>47500000</th>\n",
       "    </tr>\n",
       "    <tr>\n",
       "      <th>price</th>\n",
       "      <th></th>\n",
       "      <th></th>\n",
       "      <th></th>\n",
       "      <th></th>\n",
       "      <th></th>\n",
       "      <th></th>\n",
       "      <th></th>\n",
       "      <th></th>\n",
       "      <th></th>\n",
       "      <th></th>\n",
       "      <th></th>\n",
       "      <th></th>\n",
       "      <th></th>\n",
       "      <th></th>\n",
       "      <th></th>\n",
       "    </tr>\n",
       "  </thead>\n",
       "  <tbody>\n",
       "    <tr>\n",
       "      <th>3800000</th>\n",
       "      <td>70</td>\n",
       "      <td>0</td>\n",
       "      <td>0</td>\n",
       "      <td>0</td>\n",
       "      <td>0</td>\n",
       "      <td>0</td>\n",
       "      <td>0</td>\n",
       "      <td>0</td>\n",
       "      <td>0</td>\n",
       "      <td>0</td>\n",
       "      <td>0</td>\n",
       "      <td>0</td>\n",
       "      <td>0</td>\n",
       "      <td>0</td>\n",
       "      <td>0</td>\n",
       "    </tr>\n",
       "    <tr>\n",
       "      <th>4025000</th>\n",
       "      <td>0</td>\n",
       "      <td>69</td>\n",
       "      <td>0</td>\n",
       "      <td>0</td>\n",
       "      <td>0</td>\n",
       "      <td>0</td>\n",
       "      <td>0</td>\n",
       "      <td>0</td>\n",
       "      <td>0</td>\n",
       "      <td>0</td>\n",
       "      <td>0</td>\n",
       "      <td>0</td>\n",
       "      <td>0</td>\n",
       "      <td>0</td>\n",
       "      <td>0</td>\n",
       "    </tr>\n",
       "    <tr>\n",
       "      <th>4800000</th>\n",
       "      <td>0</td>\n",
       "      <td>0</td>\n",
       "      <td>66</td>\n",
       "      <td>0</td>\n",
       "      <td>0</td>\n",
       "      <td>0</td>\n",
       "      <td>0</td>\n",
       "      <td>0</td>\n",
       "      <td>0</td>\n",
       "      <td>0</td>\n",
       "      <td>0</td>\n",
       "      <td>0</td>\n",
       "      <td>0</td>\n",
       "      <td>0</td>\n",
       "      <td>0</td>\n",
       "    </tr>\n",
       "    <tr>\n",
       "      <th>4900000</th>\n",
       "      <td>0</td>\n",
       "      <td>0</td>\n",
       "      <td>0</td>\n",
       "      <td>80</td>\n",
       "      <td>0</td>\n",
       "      <td>0</td>\n",
       "      <td>0</td>\n",
       "      <td>0</td>\n",
       "      <td>0</td>\n",
       "      <td>0</td>\n",
       "      <td>0</td>\n",
       "      <td>0</td>\n",
       "      <td>0</td>\n",
       "      <td>0</td>\n",
       "      <td>0</td>\n",
       "    </tr>\n",
       "    <tr>\n",
       "      <th>6300000</th>\n",
       "      <td>0</td>\n",
       "      <td>0</td>\n",
       "      <td>0</td>\n",
       "      <td>0</td>\n",
       "      <td>70</td>\n",
       "      <td>0</td>\n",
       "      <td>0</td>\n",
       "      <td>0</td>\n",
       "      <td>0</td>\n",
       "      <td>0</td>\n",
       "      <td>0</td>\n",
       "      <td>0</td>\n",
       "      <td>0</td>\n",
       "      <td>0</td>\n",
       "      <td>0</td>\n",
       "    </tr>\n",
       "    <tr>\n",
       "      <th>6600000</th>\n",
       "      <td>0</td>\n",
       "      <td>0</td>\n",
       "      <td>0</td>\n",
       "      <td>0</td>\n",
       "      <td>0</td>\n",
       "      <td>5</td>\n",
       "      <td>0</td>\n",
       "      <td>0</td>\n",
       "      <td>0</td>\n",
       "      <td>0</td>\n",
       "      <td>0</td>\n",
       "      <td>0</td>\n",
       "      <td>0</td>\n",
       "      <td>0</td>\n",
       "      <td>0</td>\n",
       "    </tr>\n",
       "    <tr>\n",
       "      <th>7350000</th>\n",
       "      <td>0</td>\n",
       "      <td>0</td>\n",
       "      <td>0</td>\n",
       "      <td>0</td>\n",
       "      <td>0</td>\n",
       "      <td>0</td>\n",
       "      <td>69</td>\n",
       "      <td>0</td>\n",
       "      <td>0</td>\n",
       "      <td>0</td>\n",
       "      <td>0</td>\n",
       "      <td>0</td>\n",
       "      <td>0</td>\n",
       "      <td>0</td>\n",
       "      <td>0</td>\n",
       "    </tr>\n",
       "    <tr>\n",
       "      <th>7900000</th>\n",
       "      <td>0</td>\n",
       "      <td>0</td>\n",
       "      <td>0</td>\n",
       "      <td>0</td>\n",
       "      <td>0</td>\n",
       "      <td>0</td>\n",
       "      <td>0</td>\n",
       "      <td>64</td>\n",
       "      <td>0</td>\n",
       "      <td>0</td>\n",
       "      <td>0</td>\n",
       "      <td>0</td>\n",
       "      <td>0</td>\n",
       "      <td>0</td>\n",
       "      <td>0</td>\n",
       "    </tr>\n",
       "    <tr>\n",
       "      <th>10500000</th>\n",
       "      <td>0</td>\n",
       "      <td>0</td>\n",
       "      <td>0</td>\n",
       "      <td>0</td>\n",
       "      <td>0</td>\n",
       "      <td>0</td>\n",
       "      <td>0</td>\n",
       "      <td>0</td>\n",
       "      <td>61</td>\n",
       "      <td>0</td>\n",
       "      <td>0</td>\n",
       "      <td>0</td>\n",
       "      <td>0</td>\n",
       "      <td>0</td>\n",
       "      <td>0</td>\n",
       "    </tr>\n",
       "    <tr>\n",
       "      <th>11500000</th>\n",
       "      <td>0</td>\n",
       "      <td>0</td>\n",
       "      <td>0</td>\n",
       "      <td>0</td>\n",
       "      <td>0</td>\n",
       "      <td>0</td>\n",
       "      <td>0</td>\n",
       "      <td>0</td>\n",
       "      <td>0</td>\n",
       "      <td>60</td>\n",
       "      <td>0</td>\n",
       "      <td>0</td>\n",
       "      <td>0</td>\n",
       "      <td>0</td>\n",
       "      <td>0</td>\n",
       "    </tr>\n",
       "    <tr>\n",
       "      <th>15000000</th>\n",
       "      <td>0</td>\n",
       "      <td>0</td>\n",
       "      <td>0</td>\n",
       "      <td>0</td>\n",
       "      <td>0</td>\n",
       "      <td>0</td>\n",
       "      <td>0</td>\n",
       "      <td>0</td>\n",
       "      <td>0</td>\n",
       "      <td>0</td>\n",
       "      <td>74</td>\n",
       "      <td>0</td>\n",
       "      <td>0</td>\n",
       "      <td>0</td>\n",
       "      <td>0</td>\n",
       "    </tr>\n",
       "    <tr>\n",
       "      <th>29300000</th>\n",
       "      <td>0</td>\n",
       "      <td>0</td>\n",
       "      <td>0</td>\n",
       "      <td>0</td>\n",
       "      <td>0</td>\n",
       "      <td>0</td>\n",
       "      <td>0</td>\n",
       "      <td>0</td>\n",
       "      <td>0</td>\n",
       "      <td>0</td>\n",
       "      <td>0</td>\n",
       "      <td>6</td>\n",
       "      <td>0</td>\n",
       "      <td>0</td>\n",
       "      <td>0</td>\n",
       "    </tr>\n",
       "    <tr>\n",
       "      <th>32500000</th>\n",
       "      <td>0</td>\n",
       "      <td>0</td>\n",
       "      <td>0</td>\n",
       "      <td>0</td>\n",
       "      <td>0</td>\n",
       "      <td>0</td>\n",
       "      <td>0</td>\n",
       "      <td>0</td>\n",
       "      <td>0</td>\n",
       "      <td>0</td>\n",
       "      <td>0</td>\n",
       "      <td>0</td>\n",
       "      <td>2</td>\n",
       "      <td>0</td>\n",
       "      <td>0</td>\n",
       "    </tr>\n",
       "    <tr>\n",
       "      <th>39000000</th>\n",
       "      <td>0</td>\n",
       "      <td>0</td>\n",
       "      <td>0</td>\n",
       "      <td>0</td>\n",
       "      <td>0</td>\n",
       "      <td>0</td>\n",
       "      <td>0</td>\n",
       "      <td>0</td>\n",
       "      <td>0</td>\n",
       "      <td>0</td>\n",
       "      <td>0</td>\n",
       "      <td>0</td>\n",
       "      <td>0</td>\n",
       "      <td>2</td>\n",
       "      <td>0</td>\n",
       "    </tr>\n",
       "    <tr>\n",
       "      <th>47500000</th>\n",
       "      <td>0</td>\n",
       "      <td>0</td>\n",
       "      <td>0</td>\n",
       "      <td>0</td>\n",
       "      <td>0</td>\n",
       "      <td>0</td>\n",
       "      <td>0</td>\n",
       "      <td>0</td>\n",
       "      <td>0</td>\n",
       "      <td>0</td>\n",
       "      <td>0</td>\n",
       "      <td>0</td>\n",
       "      <td>0</td>\n",
       "      <td>0</td>\n",
       "      <td>2</td>\n",
       "    </tr>\n",
       "  </tbody>\n",
       "</table>\n",
       "</div>"
      ],
      "text/plain": [
       "col_0     3800000   4025000   4800000   4900000   6300000   6600000   \\\n",
       "price                                                                  \n",
       "3800000         70         0         0         0         0         0   \n",
       "4025000          0        69         0         0         0         0   \n",
       "4800000          0         0        66         0         0         0   \n",
       "4900000          0         0         0        80         0         0   \n",
       "6300000          0         0         0         0        70         0   \n",
       "6600000          0         0         0         0         0         5   \n",
       "7350000          0         0         0         0         0         0   \n",
       "7900000          0         0         0         0         0         0   \n",
       "10500000         0         0         0         0         0         0   \n",
       "11500000         0         0         0         0         0         0   \n",
       "15000000         0         0         0         0         0         0   \n",
       "29300000         0         0         0         0         0         0   \n",
       "32500000         0         0         0         0         0         0   \n",
       "39000000         0         0         0         0         0         0   \n",
       "47500000         0         0         0         0         0         0   \n",
       "\n",
       "col_0     7350000   7900000   10500000  11500000  15000000  29300000  \\\n",
       "price                                                                  \n",
       "3800000          0         0         0         0         0         0   \n",
       "4025000          0         0         0         0         0         0   \n",
       "4800000          0         0         0         0         0         0   \n",
       "4900000          0         0         0         0         0         0   \n",
       "6300000          0         0         0         0         0         0   \n",
       "6600000          0         0         0         0         0         0   \n",
       "7350000         69         0         0         0         0         0   \n",
       "7900000          0        64         0         0         0         0   \n",
       "10500000         0         0        61         0         0         0   \n",
       "11500000         0         0         0        60         0         0   \n",
       "15000000         0         0         0         0        74         0   \n",
       "29300000         0         0         0         0         0         6   \n",
       "32500000         0         0         0         0         0         0   \n",
       "39000000         0         0         0         0         0         0   \n",
       "47500000         0         0         0         0         0         0   \n",
       "\n",
       "col_0     32500000  39000000  47500000  \n",
       "price                                   \n",
       "3800000          0         0         0  \n",
       "4025000          0         0         0  \n",
       "4800000          0         0         0  \n",
       "4900000          0         0         0  \n",
       "6300000          0         0         0  \n",
       "6600000          0         0         0  \n",
       "7350000          0         0         0  \n",
       "7900000          0         0         0  \n",
       "10500000         0         0         0  \n",
       "11500000         0         0         0  \n",
       "15000000         0         0         0  \n",
       "29300000         0         0         0  \n",
       "32500000         2         0         0  \n",
       "39000000         0         2         0  \n",
       "47500000         0         0         2  "
      ]
     },
     "execution_count": 38,
     "metadata": {},
     "output_type": "execute_result"
    }
   ],
   "source": [
    "pd.crosstab(y_test,y_predict)"
   ]
  },
  {
   "cell_type": "code",
   "execution_count": 39,
   "metadata": {},
   "outputs": [
    {
     "data": {
      "text/plain": [
       "array([[70,  0,  0,  0,  0,  0,  0,  0,  0,  0,  0,  0,  0,  0,  0],\n",
       "       [ 0, 69,  0,  0,  0,  0,  0,  0,  0,  0,  0,  0,  0,  0,  0],\n",
       "       [ 0,  0, 66,  0,  0,  0,  0,  0,  0,  0,  0,  0,  0,  0,  0],\n",
       "       [ 0,  0,  0, 80,  0,  0,  0,  0,  0,  0,  0,  0,  0,  0,  0],\n",
       "       [ 0,  0,  0,  0, 70,  0,  0,  0,  0,  0,  0,  0,  0,  0,  0],\n",
       "       [ 0,  0,  0,  0,  0,  5,  0,  0,  0,  0,  0,  0,  0,  0,  0],\n",
       "       [ 0,  0,  0,  0,  0,  0, 69,  0,  0,  0,  0,  0,  0,  0,  0],\n",
       "       [ 0,  0,  0,  0,  0,  0,  0, 64,  0,  0,  0,  0,  0,  0,  0],\n",
       "       [ 0,  0,  0,  0,  0,  0,  0,  0, 61,  0,  0,  0,  0,  0,  0],\n",
       "       [ 0,  0,  0,  0,  0,  0,  0,  0,  0, 60,  0,  0,  0,  0,  0],\n",
       "       [ 0,  0,  0,  0,  0,  0,  0,  0,  0,  0, 74,  0,  0,  0,  0],\n",
       "       [ 0,  0,  0,  0,  0,  0,  0,  0,  0,  0,  0,  6,  0,  0,  0],\n",
       "       [ 0,  0,  0,  0,  0,  0,  0,  0,  0,  0,  0,  0,  2,  0,  0],\n",
       "       [ 0,  0,  0,  0,  0,  0,  0,  0,  0,  0,  0,  0,  0,  2,  0],\n",
       "       [ 0,  0,  0,  0,  0,  0,  0,  0,  0,  0,  0,  0,  0,  0,  2]],\n",
       "      dtype=int64)"
      ]
     },
     "execution_count": 39,
     "metadata": {},
     "output_type": "execute_result"
    }
   ],
   "source": [
    "confusion_matrix(y_test,y_predict)"
   ]
  },
  {
   "cell_type": "code",
   "execution_count": 40,
   "metadata": {},
   "outputs": [
    {
     "name": "stdout",
     "output_type": "stream",
     "text": [
      "              precision    recall  f1-score   support\n",
      "\n",
      "     3800000       1.00      1.00      1.00        70\n",
      "     4025000       1.00      1.00      1.00        69\n",
      "     4800000       1.00      1.00      1.00        66\n",
      "     4900000       1.00      1.00      1.00        80\n",
      "     6300000       1.00      1.00      1.00        70\n",
      "     6600000       1.00      1.00      1.00         5\n",
      "     7350000       1.00      1.00      1.00        69\n",
      "     7900000       1.00      1.00      1.00        64\n",
      "    10500000       1.00      1.00      1.00        61\n",
      "    11500000       1.00      1.00      1.00        60\n",
      "    15000000       1.00      1.00      1.00        74\n",
      "    29300000       1.00      1.00      1.00         6\n",
      "    32500000       1.00      1.00      1.00         2\n",
      "    39000000       1.00      1.00      1.00         2\n",
      "    47500000       1.00      1.00      1.00         2\n",
      "\n",
      "    accuracy                           1.00       700\n",
      "   macro avg       1.00      1.00      1.00       700\n",
      "weighted avg       1.00      1.00      1.00       700\n",
      "\n"
     ]
    }
   ],
   "source": [
    "print(classification_report(y_test,y_predict))"
   ]
  },
  {
   "cell_type": "code",
   "execution_count": 41,
   "metadata": {},
   "outputs": [
    {
     "data": {
      "text/plain": [
       "1.0"
      ]
     },
     "execution_count": 41,
     "metadata": {},
     "output_type": "execute_result"
    }
   ],
   "source": [
    "# KNeighborsClassifier\n",
    "model = KNeighborsClassifier(n_neighbors=5)\n",
    "model.fit(x_train,y_train)\n",
    "y_predict = model.predict(x_test)\n",
    "accuracy_score(y_test,y_predict)"
   ]
  },
  {
   "cell_type": "code",
   "execution_count": 42,
   "metadata": {},
   "outputs": [
    {
     "data": {
      "text/html": [
       "<div>\n",
       "<style scoped>\n",
       "    .dataframe tbody tr th:only-of-type {\n",
       "        vertical-align: middle;\n",
       "    }\n",
       "\n",
       "    .dataframe tbody tr th {\n",
       "        vertical-align: top;\n",
       "    }\n",
       "\n",
       "    .dataframe thead th {\n",
       "        text-align: right;\n",
       "    }\n",
       "</style>\n",
       "<table border=\"1\" class=\"dataframe\">\n",
       "  <thead>\n",
       "    <tr style=\"text-align: right;\">\n",
       "      <th>col_0</th>\n",
       "      <th>3800000</th>\n",
       "      <th>4025000</th>\n",
       "      <th>4800000</th>\n",
       "      <th>4900000</th>\n",
       "      <th>6300000</th>\n",
       "      <th>6600000</th>\n",
       "      <th>7350000</th>\n",
       "      <th>7900000</th>\n",
       "      <th>10500000</th>\n",
       "      <th>11500000</th>\n",
       "      <th>15000000</th>\n",
       "      <th>29300000</th>\n",
       "      <th>32500000</th>\n",
       "      <th>39000000</th>\n",
       "      <th>47500000</th>\n",
       "    </tr>\n",
       "    <tr>\n",
       "      <th>price</th>\n",
       "      <th></th>\n",
       "      <th></th>\n",
       "      <th></th>\n",
       "      <th></th>\n",
       "      <th></th>\n",
       "      <th></th>\n",
       "      <th></th>\n",
       "      <th></th>\n",
       "      <th></th>\n",
       "      <th></th>\n",
       "      <th></th>\n",
       "      <th></th>\n",
       "      <th></th>\n",
       "      <th></th>\n",
       "      <th></th>\n",
       "    </tr>\n",
       "  </thead>\n",
       "  <tbody>\n",
       "    <tr>\n",
       "      <th>3800000</th>\n",
       "      <td>70</td>\n",
       "      <td>0</td>\n",
       "      <td>0</td>\n",
       "      <td>0</td>\n",
       "      <td>0</td>\n",
       "      <td>0</td>\n",
       "      <td>0</td>\n",
       "      <td>0</td>\n",
       "      <td>0</td>\n",
       "      <td>0</td>\n",
       "      <td>0</td>\n",
       "      <td>0</td>\n",
       "      <td>0</td>\n",
       "      <td>0</td>\n",
       "      <td>0</td>\n",
       "    </tr>\n",
       "    <tr>\n",
       "      <th>4025000</th>\n",
       "      <td>0</td>\n",
       "      <td>69</td>\n",
       "      <td>0</td>\n",
       "      <td>0</td>\n",
       "      <td>0</td>\n",
       "      <td>0</td>\n",
       "      <td>0</td>\n",
       "      <td>0</td>\n",
       "      <td>0</td>\n",
       "      <td>0</td>\n",
       "      <td>0</td>\n",
       "      <td>0</td>\n",
       "      <td>0</td>\n",
       "      <td>0</td>\n",
       "      <td>0</td>\n",
       "    </tr>\n",
       "    <tr>\n",
       "      <th>4800000</th>\n",
       "      <td>0</td>\n",
       "      <td>0</td>\n",
       "      <td>66</td>\n",
       "      <td>0</td>\n",
       "      <td>0</td>\n",
       "      <td>0</td>\n",
       "      <td>0</td>\n",
       "      <td>0</td>\n",
       "      <td>0</td>\n",
       "      <td>0</td>\n",
       "      <td>0</td>\n",
       "      <td>0</td>\n",
       "      <td>0</td>\n",
       "      <td>0</td>\n",
       "      <td>0</td>\n",
       "    </tr>\n",
       "    <tr>\n",
       "      <th>4900000</th>\n",
       "      <td>0</td>\n",
       "      <td>0</td>\n",
       "      <td>0</td>\n",
       "      <td>80</td>\n",
       "      <td>0</td>\n",
       "      <td>0</td>\n",
       "      <td>0</td>\n",
       "      <td>0</td>\n",
       "      <td>0</td>\n",
       "      <td>0</td>\n",
       "      <td>0</td>\n",
       "      <td>0</td>\n",
       "      <td>0</td>\n",
       "      <td>0</td>\n",
       "      <td>0</td>\n",
       "    </tr>\n",
       "    <tr>\n",
       "      <th>6300000</th>\n",
       "      <td>0</td>\n",
       "      <td>0</td>\n",
       "      <td>0</td>\n",
       "      <td>0</td>\n",
       "      <td>70</td>\n",
       "      <td>0</td>\n",
       "      <td>0</td>\n",
       "      <td>0</td>\n",
       "      <td>0</td>\n",
       "      <td>0</td>\n",
       "      <td>0</td>\n",
       "      <td>0</td>\n",
       "      <td>0</td>\n",
       "      <td>0</td>\n",
       "      <td>0</td>\n",
       "    </tr>\n",
       "    <tr>\n",
       "      <th>6600000</th>\n",
       "      <td>0</td>\n",
       "      <td>0</td>\n",
       "      <td>0</td>\n",
       "      <td>0</td>\n",
       "      <td>0</td>\n",
       "      <td>5</td>\n",
       "      <td>0</td>\n",
       "      <td>0</td>\n",
       "      <td>0</td>\n",
       "      <td>0</td>\n",
       "      <td>0</td>\n",
       "      <td>0</td>\n",
       "      <td>0</td>\n",
       "      <td>0</td>\n",
       "      <td>0</td>\n",
       "    </tr>\n",
       "    <tr>\n",
       "      <th>7350000</th>\n",
       "      <td>0</td>\n",
       "      <td>0</td>\n",
       "      <td>0</td>\n",
       "      <td>0</td>\n",
       "      <td>0</td>\n",
       "      <td>0</td>\n",
       "      <td>69</td>\n",
       "      <td>0</td>\n",
       "      <td>0</td>\n",
       "      <td>0</td>\n",
       "      <td>0</td>\n",
       "      <td>0</td>\n",
       "      <td>0</td>\n",
       "      <td>0</td>\n",
       "      <td>0</td>\n",
       "    </tr>\n",
       "    <tr>\n",
       "      <th>7900000</th>\n",
       "      <td>0</td>\n",
       "      <td>0</td>\n",
       "      <td>0</td>\n",
       "      <td>0</td>\n",
       "      <td>0</td>\n",
       "      <td>0</td>\n",
       "      <td>0</td>\n",
       "      <td>64</td>\n",
       "      <td>0</td>\n",
       "      <td>0</td>\n",
       "      <td>0</td>\n",
       "      <td>0</td>\n",
       "      <td>0</td>\n",
       "      <td>0</td>\n",
       "      <td>0</td>\n",
       "    </tr>\n",
       "    <tr>\n",
       "      <th>10500000</th>\n",
       "      <td>0</td>\n",
       "      <td>0</td>\n",
       "      <td>0</td>\n",
       "      <td>0</td>\n",
       "      <td>0</td>\n",
       "      <td>0</td>\n",
       "      <td>0</td>\n",
       "      <td>0</td>\n",
       "      <td>61</td>\n",
       "      <td>0</td>\n",
       "      <td>0</td>\n",
       "      <td>0</td>\n",
       "      <td>0</td>\n",
       "      <td>0</td>\n",
       "      <td>0</td>\n",
       "    </tr>\n",
       "    <tr>\n",
       "      <th>11500000</th>\n",
       "      <td>0</td>\n",
       "      <td>0</td>\n",
       "      <td>0</td>\n",
       "      <td>0</td>\n",
       "      <td>0</td>\n",
       "      <td>0</td>\n",
       "      <td>0</td>\n",
       "      <td>0</td>\n",
       "      <td>0</td>\n",
       "      <td>60</td>\n",
       "      <td>0</td>\n",
       "      <td>0</td>\n",
       "      <td>0</td>\n",
       "      <td>0</td>\n",
       "      <td>0</td>\n",
       "    </tr>\n",
       "    <tr>\n",
       "      <th>15000000</th>\n",
       "      <td>0</td>\n",
       "      <td>0</td>\n",
       "      <td>0</td>\n",
       "      <td>0</td>\n",
       "      <td>0</td>\n",
       "      <td>0</td>\n",
       "      <td>0</td>\n",
       "      <td>0</td>\n",
       "      <td>0</td>\n",
       "      <td>0</td>\n",
       "      <td>74</td>\n",
       "      <td>0</td>\n",
       "      <td>0</td>\n",
       "      <td>0</td>\n",
       "      <td>0</td>\n",
       "    </tr>\n",
       "    <tr>\n",
       "      <th>29300000</th>\n",
       "      <td>0</td>\n",
       "      <td>0</td>\n",
       "      <td>0</td>\n",
       "      <td>0</td>\n",
       "      <td>0</td>\n",
       "      <td>0</td>\n",
       "      <td>0</td>\n",
       "      <td>0</td>\n",
       "      <td>0</td>\n",
       "      <td>0</td>\n",
       "      <td>0</td>\n",
       "      <td>6</td>\n",
       "      <td>0</td>\n",
       "      <td>0</td>\n",
       "      <td>0</td>\n",
       "    </tr>\n",
       "    <tr>\n",
       "      <th>32500000</th>\n",
       "      <td>0</td>\n",
       "      <td>0</td>\n",
       "      <td>0</td>\n",
       "      <td>0</td>\n",
       "      <td>0</td>\n",
       "      <td>0</td>\n",
       "      <td>0</td>\n",
       "      <td>0</td>\n",
       "      <td>0</td>\n",
       "      <td>0</td>\n",
       "      <td>0</td>\n",
       "      <td>0</td>\n",
       "      <td>2</td>\n",
       "      <td>0</td>\n",
       "      <td>0</td>\n",
       "    </tr>\n",
       "    <tr>\n",
       "      <th>39000000</th>\n",
       "      <td>0</td>\n",
       "      <td>0</td>\n",
       "      <td>0</td>\n",
       "      <td>0</td>\n",
       "      <td>0</td>\n",
       "      <td>0</td>\n",
       "      <td>0</td>\n",
       "      <td>0</td>\n",
       "      <td>0</td>\n",
       "      <td>0</td>\n",
       "      <td>0</td>\n",
       "      <td>0</td>\n",
       "      <td>0</td>\n",
       "      <td>2</td>\n",
       "      <td>0</td>\n",
       "    </tr>\n",
       "    <tr>\n",
       "      <th>47500000</th>\n",
       "      <td>0</td>\n",
       "      <td>0</td>\n",
       "      <td>0</td>\n",
       "      <td>0</td>\n",
       "      <td>0</td>\n",
       "      <td>0</td>\n",
       "      <td>0</td>\n",
       "      <td>0</td>\n",
       "      <td>0</td>\n",
       "      <td>0</td>\n",
       "      <td>0</td>\n",
       "      <td>0</td>\n",
       "      <td>0</td>\n",
       "      <td>0</td>\n",
       "      <td>2</td>\n",
       "    </tr>\n",
       "  </tbody>\n",
       "</table>\n",
       "</div>"
      ],
      "text/plain": [
       "col_0     3800000   4025000   4800000   4900000   6300000   6600000   \\\n",
       "price                                                                  \n",
       "3800000         70         0         0         0         0         0   \n",
       "4025000          0        69         0         0         0         0   \n",
       "4800000          0         0        66         0         0         0   \n",
       "4900000          0         0         0        80         0         0   \n",
       "6300000          0         0         0         0        70         0   \n",
       "6600000          0         0         0         0         0         5   \n",
       "7350000          0         0         0         0         0         0   \n",
       "7900000          0         0         0         0         0         0   \n",
       "10500000         0         0         0         0         0         0   \n",
       "11500000         0         0         0         0         0         0   \n",
       "15000000         0         0         0         0         0         0   \n",
       "29300000         0         0         0         0         0         0   \n",
       "32500000         0         0         0         0         0         0   \n",
       "39000000         0         0         0         0         0         0   \n",
       "47500000         0         0         0         0         0         0   \n",
       "\n",
       "col_0     7350000   7900000   10500000  11500000  15000000  29300000  \\\n",
       "price                                                                  \n",
       "3800000          0         0         0         0         0         0   \n",
       "4025000          0         0         0         0         0         0   \n",
       "4800000          0         0         0         0         0         0   \n",
       "4900000          0         0         0         0         0         0   \n",
       "6300000          0         0         0         0         0         0   \n",
       "6600000          0         0         0         0         0         0   \n",
       "7350000         69         0         0         0         0         0   \n",
       "7900000          0        64         0         0         0         0   \n",
       "10500000         0         0        61         0         0         0   \n",
       "11500000         0         0         0        60         0         0   \n",
       "15000000         0         0         0         0        74         0   \n",
       "29300000         0         0         0         0         0         6   \n",
       "32500000         0         0         0         0         0         0   \n",
       "39000000         0         0         0         0         0         0   \n",
       "47500000         0         0         0         0         0         0   \n",
       "\n",
       "col_0     32500000  39000000  47500000  \n",
       "price                                   \n",
       "3800000          0         0         0  \n",
       "4025000          0         0         0  \n",
       "4800000          0         0         0  \n",
       "4900000          0         0         0  \n",
       "6300000          0         0         0  \n",
       "6600000          0         0         0  \n",
       "7350000          0         0         0  \n",
       "7900000          0         0         0  \n",
       "10500000         0         0         0  \n",
       "11500000         0         0         0  \n",
       "15000000         0         0         0  \n",
       "29300000         0         0         0  \n",
       "32500000         2         0         0  \n",
       "39000000         0         2         0  \n",
       "47500000         0         0         2  "
      ]
     },
     "execution_count": 42,
     "metadata": {},
     "output_type": "execute_result"
    }
   ],
   "source": [
    "pd.crosstab(y_test,y_predict)"
   ]
  },
  {
   "cell_type": "code",
   "execution_count": 43,
   "metadata": {},
   "outputs": [],
   "source": [
    "y_predict = model.predict(x_test)"
   ]
  },
  {
   "cell_type": "code",
   "execution_count": 44,
   "metadata": {},
   "outputs": [
    {
     "name": "stdout",
     "output_type": "stream",
     "text": [
      "[[70  0  0  0  0  0  0  0  0  0  0  0  0  0  0]\n",
      " [ 0 69  0  0  0  0  0  0  0  0  0  0  0  0  0]\n",
      " [ 0  0 66  0  0  0  0  0  0  0  0  0  0  0  0]\n",
      " [ 0  0  0 80  0  0  0  0  0  0  0  0  0  0  0]\n",
      " [ 0  0  0  0 70  0  0  0  0  0  0  0  0  0  0]\n",
      " [ 0  0  0  0  0  5  0  0  0  0  0  0  0  0  0]\n",
      " [ 0  0  0  0  0  0 69  0  0  0  0  0  0  0  0]\n",
      " [ 0  0  0  0  0  0  0 64  0  0  0  0  0  0  0]\n",
      " [ 0  0  0  0  0  0  0  0 61  0  0  0  0  0  0]\n",
      " [ 0  0  0  0  0  0  0  0  0 60  0  0  0  0  0]\n",
      " [ 0  0  0  0  0  0  0  0  0  0 74  0  0  0  0]\n",
      " [ 0  0  0  0  0  0  0  0  0  0  0  6  0  0  0]\n",
      " [ 0  0  0  0  0  0  0  0  0  0  0  0  2  0  0]\n",
      " [ 0  0  0  0  0  0  0  0  0  0  0  0  0  2  0]\n",
      " [ 0  0  0  0  0  0  0  0  0  0  0  0  0  0  2]]\n"
     ]
    }
   ],
   "source": [
    "matrix=confusion_matrix(y_test,y_predict)\n",
    "print(matrix)"
   ]
  },
  {
   "cell_type": "code",
   "execution_count": 45,
   "metadata": {},
   "outputs": [
    {
     "data": {
      "text/plain": [
       "<AxesSubplot:>"
      ]
     },
     "execution_count": 45,
     "metadata": {},
     "output_type": "execute_result"
    },
    {
     "data": {
      "image/png": "[encoded data removed]",
      "text/plain": [
       "<Figure size 648x360 with 2 Axes>"
      ]
     },
     "metadata": {
      "needs_background": "light"
     },
     "output_type": "display_data"
    }
   ],
   "source": [
    "plt.figure(figsize = (9,5))\n",
    "sns.heatmap(matrix,annot=True)"
   ]
  },
  {
   "cell_type": "code",
   "execution_count": 46,
   "metadata": {},
   "outputs": [
    {
     "name": "stdout",
     "output_type": "stream",
     "text": [
      "accuracy: 1.0\n"
     ]
    }
   ],
   "source": [
    "# Evaluation\n",
    "print(\"accuracy:\",accuracy_score(y_test,y_predict))"
   ]
  },
  {
   "cell_type": "code",
   "execution_count": 47,
   "metadata": {},
   "outputs": [
    {
     "data": {
      "text/plain": [
       "array([[70,  0,  0,  0,  0,  0,  0,  0,  0,  0,  0,  0,  0,  0,  0],\n",
       "       [ 0, 69,  0,  0,  0,  0,  0,  0,  0,  0,  0,  0,  0,  0,  0],\n",
       "       [ 0,  0, 66,  0,  0,  0,  0,  0,  0,  0,  0,  0,  0,  0,  0],\n",
       "       [ 0,  0,  0, 80,  0,  0,  0,  0,  0,  0,  0,  0,  0,  0,  0],\n",
       "       [ 0,  0,  0,  0, 70,  0,  0,  0,  0,  0,  0,  0,  0,  0,  0],\n",
       "       [ 0,  0,  0,  0,  0,  5,  0,  0,  0,  0,  0,  0,  0,  0,  0],\n",
       "       [ 0,  0,  0,  0,  0,  0, 69,  0,  0,  0,  0,  0,  0,  0,  0],\n",
       "       [ 0,  0,  0,  0,  0,  0,  0, 64,  0,  0,  0,  0,  0,  0,  0],\n",
       "       [ 0,  0,  0,  0,  0,  0,  0,  0, 61,  0,  0,  0,  0,  0,  0],\n",
       "       [ 0,  0,  0,  0,  0,  0,  0,  0,  0, 60,  0,  0,  0,  0,  0],\n",
       "       [ 0,  0,  0,  0,  0,  0,  0,  0,  0,  0, 74,  0,  0,  0,  0],\n",
       "       [ 0,  0,  0,  0,  0,  0,  0,  0,  0,  0,  0,  6,  0,  0,  0],\n",
       "       [ 0,  0,  0,  0,  0,  0,  0,  0,  0,  0,  0,  0,  2,  0,  0],\n",
       "       [ 0,  0,  0,  0,  0,  0,  0,  0,  0,  0,  0,  0,  0,  2,  0],\n",
       "       [ 0,  0,  0,  0,  0,  0,  0,  0,  0,  0,  0,  0,  0,  0,  2]],\n",
       "      dtype=int64)"
      ]
     },
     "execution_count": 47,
     "metadata": {},
     "output_type": "execute_result"
    }
   ],
   "source": [
    "confusion_matrix(y_test,y_predict)"
   ]
  },
  {
   "cell_type": "code",
   "execution_count": 48,
   "metadata": {},
   "outputs": [
    {
     "data": {
      "text/html": [
       "<div>\n",
       "<style scoped>\n",
       "    .dataframe tbody tr th:only-of-type {\n",
       "        vertical-align: middle;\n",
       "    }\n",
       "\n",
       "    .dataframe tbody tr th {\n",
       "        vertical-align: top;\n",
       "    }\n",
       "\n",
       "    .dataframe thead th {\n",
       "        text-align: right;\n",
       "    }\n",
       "</style>\n",
       "<table border=\"1\" class=\"dataframe\">\n",
       "  <thead>\n",
       "    <tr style=\"text-align: right;\">\n",
       "      <th>col_0</th>\n",
       "      <th>3800000</th>\n",
       "      <th>4025000</th>\n",
       "      <th>4800000</th>\n",
       "      <th>4900000</th>\n",
       "      <th>6300000</th>\n",
       "      <th>6600000</th>\n",
       "      <th>7350000</th>\n",
       "      <th>7900000</th>\n",
       "      <th>10500000</th>\n",
       "      <th>11500000</th>\n",
       "      <th>15000000</th>\n",
       "      <th>29300000</th>\n",
       "      <th>32500000</th>\n",
       "      <th>39000000</th>\n",
       "      <th>47500000</th>\n",
       "    </tr>\n",
       "    <tr>\n",
       "      <th>price</th>\n",
       "      <th></th>\n",
       "      <th></th>\n",
       "      <th></th>\n",
       "      <th></th>\n",
       "      <th></th>\n",
       "      <th></th>\n",
       "      <th></th>\n",
       "      <th></th>\n",
       "      <th></th>\n",
       "      <th></th>\n",
       "      <th></th>\n",
       "      <th></th>\n",
       "      <th></th>\n",
       "      <th></th>\n",
       "      <th></th>\n",
       "    </tr>\n",
       "  </thead>\n",
       "  <tbody>\n",
       "    <tr>\n",
       "      <th>3800000</th>\n",
       "      <td>70</td>\n",
       "      <td>0</td>\n",
       "      <td>0</td>\n",
       "      <td>0</td>\n",
       "      <td>0</td>\n",
       "      <td>0</td>\n",
       "      <td>0</td>\n",
       "      <td>0</td>\n",
       "      <td>0</td>\n",
       "      <td>0</td>\n",
       "      <td>0</td>\n",
       "      <td>0</td>\n",
       "      <td>0</td>\n",
       "      <td>0</td>\n",
       "      <td>0</td>\n",
       "    </tr>\n",
       "    <tr>\n",
       "      <th>4025000</th>\n",
       "      <td>0</td>\n",
       "      <td>69</td>\n",
       "      <td>0</td>\n",
       "      <td>0</td>\n",
       "      <td>0</td>\n",
       "      <td>0</td>\n",
       "      <td>0</td>\n",
       "      <td>0</td>\n",
       "      <td>0</td>\n",
       "      <td>0</td>\n",
       "      <td>0</td>\n",
       "      <td>0</td>\n",
       "      <td>0</td>\n",
       "      <td>0</td>\n",
       "      <td>0</td>\n",
       "    </tr>\n",
       "    <tr>\n",
       "      <th>4800000</th>\n",
       "      <td>0</td>\n",
       "      <td>0</td>\n",
       "      <td>66</td>\n",
       "      <td>0</td>\n",
       "      <td>0</td>\n",
       "      <td>0</td>\n",
       "      <td>0</td>\n",
       "      <td>0</td>\n",
       "      <td>0</td>\n",
       "      <td>0</td>\n",
       "      <td>0</td>\n",
       "      <td>0</td>\n",
       "      <td>0</td>\n",
       "      <td>0</td>\n",
       "      <td>0</td>\n",
       "    </tr>\n",
       "    <tr>\n",
       "      <th>4900000</th>\n",
       "      <td>0</td>\n",
       "      <td>0</td>\n",
       "      <td>0</td>\n",
       "      <td>80</td>\n",
       "      <td>0</td>\n",
       "      <td>0</td>\n",
       "      <td>0</td>\n",
       "      <td>0</td>\n",
       "      <td>0</td>\n",
       "      <td>0</td>\n",
       "      <td>0</td>\n",
       "      <td>0</td>\n",
       "      <td>0</td>\n",
       "      <td>0</td>\n",
       "      <td>0</td>\n",
       "    </tr>\n",
       "    <tr>\n",
       "      <th>6300000</th>\n",
       "      <td>0</td>\n",
       "      <td>0</td>\n",
       "      <td>0</td>\n",
       "      <td>0</td>\n",
       "      <td>70</td>\n",
       "      <td>0</td>\n",
       "      <td>0</td>\n",
       "      <td>0</td>\n",
       "      <td>0</td>\n",
       "      <td>0</td>\n",
       "      <td>0</td>\n",
       "      <td>0</td>\n",
       "      <td>0</td>\n",
       "      <td>0</td>\n",
       "      <td>0</td>\n",
       "    </tr>\n",
       "    <tr>\n",
       "      <th>6600000</th>\n",
       "      <td>0</td>\n",
       "      <td>0</td>\n",
       "      <td>0</td>\n",
       "      <td>0</td>\n",
       "      <td>0</td>\n",
       "      <td>5</td>\n",
       "      <td>0</td>\n",
       "      <td>0</td>\n",
       "      <td>0</td>\n",
       "      <td>0</td>\n",
       "      <td>0</td>\n",
       "      <td>0</td>\n",
       "      <td>0</td>\n",
       "      <td>0</td>\n",
       "      <td>0</td>\n",
       "    </tr>\n",
       "    <tr>\n",
       "      <th>7350000</th>\n",
       "      <td>0</td>\n",
       "      <td>0</td>\n",
       "      <td>0</td>\n",
       "      <td>0</td>\n",
       "      <td>0</td>\n",
       "      <td>0</td>\n",
       "      <td>69</td>\n",
       "      <td>0</td>\n",
       "      <td>0</td>\n",
       "      <td>0</td>\n",
       "      <td>0</td>\n",
       "      <td>0</td>\n",
       "      <td>0</td>\n",
       "      <td>0</td>\n",
       "      <td>0</td>\n",
       "    </tr>\n",
       "    <tr>\n",
       "      <th>7900000</th>\n",
       "      <td>0</td>\n",
       "      <td>0</td>\n",
       "      <td>0</td>\n",
       "      <td>0</td>\n",
       "      <td>0</td>\n",
       "      <td>0</td>\n",
       "      <td>0</td>\n",
       "      <td>64</td>\n",
       "      <td>0</td>\n",
       "      <td>0</td>\n",
       "      <td>0</td>\n",
       "      <td>0</td>\n",
       "      <td>0</td>\n",
       "      <td>0</td>\n",
       "      <td>0</td>\n",
       "    </tr>\n",
       "    <tr>\n",
       "      <th>10500000</th>\n",
       "      <td>0</td>\n",
       "      <td>0</td>\n",
       "      <td>0</td>\n",
       "      <td>0</td>\n",
       "      <td>0</td>\n",
       "      <td>0</td>\n",
       "      <td>0</td>\n",
       "      <td>0</td>\n",
       "      <td>61</td>\n",
       "      <td>0</td>\n",
       "      <td>0</td>\n",
       "      <td>0</td>\n",
       "      <td>0</td>\n",
       "      <td>0</td>\n",
       "      <td>0</td>\n",
       "    </tr>\n",
       "    <tr>\n",
       "      <th>11500000</th>\n",
       "      <td>0</td>\n",
       "      <td>0</td>\n",
       "      <td>0</td>\n",
       "      <td>0</td>\n",
       "      <td>0</td>\n",
       "      <td>0</td>\n",
       "      <td>0</td>\n",
       "      <td>0</td>\n",
       "      <td>0</td>\n",
       "      <td>60</td>\n",
       "      <td>0</td>\n",
       "      <td>0</td>\n",
       "      <td>0</td>\n",
       "      <td>0</td>\n",
       "      <td>0</td>\n",
       "    </tr>\n",
       "    <tr>\n",
       "      <th>15000000</th>\n",
       "      <td>0</td>\n",
       "      <td>0</td>\n",
       "      <td>0</td>\n",
       "      <td>0</td>\n",
       "      <td>0</td>\n",
       "      <td>0</td>\n",
       "      <td>0</td>\n",
       "      <td>0</td>\n",
       "      <td>0</td>\n",
       "      <td>0</td>\n",
       "      <td>74</td>\n",
       "      <td>0</td>\n",
       "      <td>0</td>\n",
       "      <td>0</td>\n",
       "      <td>0</td>\n",
       "    </tr>\n",
       "    <tr>\n",
       "      <th>29300000</th>\n",
       "      <td>0</td>\n",
       "      <td>0</td>\n",
       "      <td>0</td>\n",
       "      <td>0</td>\n",
       "      <td>0</td>\n",
       "      <td>0</td>\n",
       "      <td>0</td>\n",
       "      <td>0</td>\n",
       "      <td>0</td>\n",
       "      <td>0</td>\n",
       "      <td>0</td>\n",
       "      <td>6</td>\n",
       "      <td>0</td>\n",
       "      <td>0</td>\n",
       "      <td>0</td>\n",
       "    </tr>\n",
       "    <tr>\n",
       "      <th>32500000</th>\n",
       "      <td>0</td>\n",
       "      <td>0</td>\n",
       "      <td>0</td>\n",
       "      <td>0</td>\n",
       "      <td>0</td>\n",
       "      <td>0</td>\n",
       "      <td>0</td>\n",
       "      <td>0</td>\n",
       "      <td>0</td>\n",
       "      <td>0</td>\n",
       "      <td>0</td>\n",
       "      <td>0</td>\n",
       "      <td>2</td>\n",
       "      <td>0</td>\n",
       "      <td>0</td>\n",
       "    </tr>\n",
       "    <tr>\n",
       "      <th>39000000</th>\n",
       "      <td>0</td>\n",
       "      <td>0</td>\n",
       "      <td>0</td>\n",
       "      <td>0</td>\n",
       "      <td>0</td>\n",
       "      <td>0</td>\n",
       "      <td>0</td>\n",
       "      <td>0</td>\n",
       "      <td>0</td>\n",
       "      <td>0</td>\n",
       "      <td>0</td>\n",
       "      <td>0</td>\n",
       "      <td>0</td>\n",
       "      <td>2</td>\n",
       "      <td>0</td>\n",
       "    </tr>\n",
       "    <tr>\n",
       "      <th>47500000</th>\n",
       "      <td>0</td>\n",
       "      <td>0</td>\n",
       "      <td>0</td>\n",
       "      <td>0</td>\n",
       "      <td>0</td>\n",
       "      <td>0</td>\n",
       "      <td>0</td>\n",
       "      <td>0</td>\n",
       "      <td>0</td>\n",
       "      <td>0</td>\n",
       "      <td>0</td>\n",
       "      <td>0</td>\n",
       "      <td>0</td>\n",
       "      <td>0</td>\n",
       "      <td>2</td>\n",
       "    </tr>\n",
       "  </tbody>\n",
       "</table>\n",
       "</div>"
      ],
      "text/plain": [
       "col_0     3800000   4025000   4800000   4900000   6300000   6600000   \\\n",
       "price                                                                  \n",
       "3800000         70         0         0         0         0         0   \n",
       "4025000          0        69         0         0         0         0   \n",
       "4800000          0         0        66         0         0         0   \n",
       "4900000          0         0         0        80         0         0   \n",
       "6300000          0         0         0         0        70         0   \n",
       "6600000          0         0         0         0         0         5   \n",
       "7350000          0         0         0         0         0         0   \n",
       "7900000          0         0         0         0         0         0   \n",
       "10500000         0         0         0         0         0         0   \n",
       "11500000         0         0         0         0         0         0   \n",
       "15000000         0         0         0         0         0         0   \n",
       "29300000         0         0         0         0         0         0   \n",
       "32500000         0         0         0         0         0         0   \n",
       "39000000         0         0         0         0         0         0   \n",
       "47500000         0         0         0         0         0         0   \n",
       "\n",
       "col_0     7350000   7900000   10500000  11500000  15000000  29300000  \\\n",
       "price                                                                  \n",
       "3800000          0         0         0         0         0         0   \n",
       "4025000          0         0         0         0         0         0   \n",
       "4800000          0         0         0         0         0         0   \n",
       "4900000          0         0         0         0         0         0   \n",
       "6300000          0         0         0         0         0         0   \n",
       "6600000          0         0         0         0         0         0   \n",
       "7350000         69         0         0         0         0         0   \n",
       "7900000          0        64         0         0         0         0   \n",
       "10500000         0         0        61         0         0         0   \n",
       "11500000         0         0         0        60         0         0   \n",
       "15000000         0         0         0         0        74         0   \n",
       "29300000         0         0         0         0         0         6   \n",
       "32500000         0         0         0         0         0         0   \n",
       "39000000         0         0         0         0         0         0   \n",
       "47500000         0         0         0         0         0         0   \n",
       "\n",
       "col_0     32500000  39000000  47500000  \n",
       "price                                   \n",
       "3800000          0         0         0  \n",
       "4025000          0         0         0  \n",
       "4800000          0         0         0  \n",
       "4900000          0         0         0  \n",
       "6300000          0         0         0  \n",
       "6600000          0         0         0  \n",
       "7350000          0         0         0  \n",
       "7900000          0         0         0  \n",
       "10500000         0         0         0  \n",
       "11500000         0         0         0  \n",
       "15000000         0         0         0  \n",
       "29300000         0         0         0  \n",
       "32500000         2         0         0  \n",
       "39000000         0         2         0  \n",
       "47500000         0         0         2  "
      ]
     },
     "execution_count": 48,
     "metadata": {},
     "output_type": "execute_result"
    }
   ],
   "source": [
    "pd.crosstab(y_test,y_predict)"
   ]
  },
  {
   "cell_type": "markdown",
   "metadata": {},
   "source": [
    "# Price prediction of Using KNN for Prediction"
   ]
  },
  {
   "cell_type": "code",
   "execution_count": 49,
   "metadata": {},
   "outputs": [
    {
     "data": {
      "text/html": [
       "<div>\n",
       "<style scoped>\n",
       "    .dataframe tbody tr th:only-of-type {\n",
       "        vertical-align: middle;\n",
       "    }\n",
       "\n",
       "    .dataframe tbody tr th {\n",
       "        vertical-align: top;\n",
       "    }\n",
       "\n",
       "    .dataframe thead th {\n",
       "        text-align: right;\n",
       "    }\n",
       "</style>\n",
       "<table border=\"1\" class=\"dataframe\">\n",
       "  <thead>\n",
       "    <tr style=\"text-align: right;\">\n",
       "      <th></th>\n",
       "      <th>place</th>\n",
       "      <th>built</th>\n",
       "      <th>sqft</th>\n",
       "      <th>sale</th>\n",
       "      <th>yearsOld</th>\n",
       "      <th>floor</th>\n",
       "      <th>totalFloor</th>\n",
       "      <th>bhk</th>\n",
       "      <th>price</th>\n",
       "    </tr>\n",
       "  </thead>\n",
       "  <tbody>\n",
       "    <tr>\n",
       "      <th>0</th>\n",
       "      <td>BTM Layout</td>\n",
       "      <td>Super built-up  Area</td>\n",
       "      <td>1450</td>\n",
       "      <td>Resale</td>\n",
       "      <td>5</td>\n",
       "      <td>1</td>\n",
       "      <td>4</td>\n",
       "      <td>1</td>\n",
       "      <td>6300000</td>\n",
       "    </tr>\n",
       "    <tr>\n",
       "      <th>1</th>\n",
       "      <td>Yelahanka</td>\n",
       "      <td>Super built-up  Area</td>\n",
       "      <td>2190</td>\n",
       "      <td>Resale</td>\n",
       "      <td>5</td>\n",
       "      <td>3</td>\n",
       "      <td>5</td>\n",
       "      <td>3</td>\n",
       "      <td>11500000</td>\n",
       "    </tr>\n",
       "    <tr>\n",
       "      <th>2</th>\n",
       "      <td>Whitefield</td>\n",
       "      <td>Super built-up  Area</td>\n",
       "      <td>1019</td>\n",
       "      <td>Resale</td>\n",
       "      <td>1</td>\n",
       "      <td>2</td>\n",
       "      <td>5</td>\n",
       "      <td>2</td>\n",
       "      <td>3800000</td>\n",
       "    </tr>\n",
       "    <tr>\n",
       "      <th>3</th>\n",
       "      <td>Ambalipura</td>\n",
       "      <td>Super built-up  Area</td>\n",
       "      <td>1857</td>\n",
       "      <td>Resale</td>\n",
       "      <td>15</td>\n",
       "      <td>4</td>\n",
       "      <td>5</td>\n",
       "      <td>4</td>\n",
       "      <td>10500000</td>\n",
       "    </tr>\n",
       "    <tr>\n",
       "      <th>4</th>\n",
       "      <td>Yelahanka</td>\n",
       "      <td>Super built-up  Area</td>\n",
       "      <td>2190</td>\n",
       "      <td>Resale</td>\n",
       "      <td>5</td>\n",
       "      <td>3</td>\n",
       "      <td>5</td>\n",
       "      <td>3</td>\n",
       "      <td>11500000</td>\n",
       "    </tr>\n",
       "  </tbody>\n",
       "</table>\n",
       "</div>"
      ],
      "text/plain": [
       "        place                 built  sqft    sale  yearsOld  floor  \\\n",
       "0  BTM Layout  Super built-up  Area  1450  Resale         5      1   \n",
       "1   Yelahanka  Super built-up  Area  2190  Resale         5      3   \n",
       "2  Whitefield  Super built-up  Area  1019  Resale         1      2   \n",
       "3  Ambalipura  Super built-up  Area  1857  Resale        15      4   \n",
       "4   Yelahanka  Super built-up  Area  2190  Resale         5      3   \n",
       "\n",
       "   totalFloor  bhk     price  \n",
       "0           4    1   6300000  \n",
       "1           5    3  11500000  \n",
       "2           5    2   3800000  \n",
       "3           5    4  10500000  \n",
       "4           5    3  11500000  "
      ]
     },
     "execution_count": 49,
     "metadata": {},
     "output_type": "execute_result"
    }
   ],
   "source": [
    "# import csv\n",
    "data_1=pd.read_csv('hp_data.csv')\n",
    "data_1.head()"
   ]
  },
  {
   "cell_type": "code",
   "execution_count": 50,
   "metadata": {},
   "outputs": [],
   "source": [
    "# Drop columns price ramge\n",
    "data_1=data_1.drop(columns=['price'],axis=1)"
   ]
  },
  {
   "cell_type": "code",
   "execution_count": 51,
   "metadata": {
    "scrolled": true
   },
   "outputs": [
    {
     "data": {
      "text/html": [
       "<div>\n",
       "<style scoped>\n",
       "    .dataframe tbody tr th:only-of-type {\n",
       "        vertical-align: middle;\n",
       "    }\n",
       "\n",
       "    .dataframe tbody tr th {\n",
       "        vertical-align: top;\n",
       "    }\n",
       "\n",
       "    .dataframe thead th {\n",
       "        text-align: right;\n",
       "    }\n",
       "</style>\n",
       "<table border=\"1\" class=\"dataframe\">\n",
       "  <thead>\n",
       "    <tr style=\"text-align: right;\">\n",
       "      <th></th>\n",
       "      <th>place</th>\n",
       "      <th>built</th>\n",
       "      <th>sqft</th>\n",
       "      <th>sale</th>\n",
       "      <th>yearsOld</th>\n",
       "      <th>floor</th>\n",
       "      <th>totalFloor</th>\n",
       "      <th>bhk</th>\n",
       "    </tr>\n",
       "  </thead>\n",
       "  <tbody>\n",
       "    <tr>\n",
       "      <th>0</th>\n",
       "      <td>BTM Layout</td>\n",
       "      <td>Super built-up  Area</td>\n",
       "      <td>1450</td>\n",
       "      <td>Resale</td>\n",
       "      <td>5</td>\n",
       "      <td>1</td>\n",
       "      <td>4</td>\n",
       "      <td>1</td>\n",
       "    </tr>\n",
       "    <tr>\n",
       "      <th>1</th>\n",
       "      <td>Yelahanka</td>\n",
       "      <td>Super built-up  Area</td>\n",
       "      <td>2190</td>\n",
       "      <td>Resale</td>\n",
       "      <td>5</td>\n",
       "      <td>3</td>\n",
       "      <td>5</td>\n",
       "      <td>3</td>\n",
       "    </tr>\n",
       "    <tr>\n",
       "      <th>2</th>\n",
       "      <td>Whitefield</td>\n",
       "      <td>Super built-up  Area</td>\n",
       "      <td>1019</td>\n",
       "      <td>Resale</td>\n",
       "      <td>1</td>\n",
       "      <td>2</td>\n",
       "      <td>5</td>\n",
       "      <td>2</td>\n",
       "    </tr>\n",
       "    <tr>\n",
       "      <th>3</th>\n",
       "      <td>Ambalipura</td>\n",
       "      <td>Super built-up  Area</td>\n",
       "      <td>1857</td>\n",
       "      <td>Resale</td>\n",
       "      <td>15</td>\n",
       "      <td>4</td>\n",
       "      <td>5</td>\n",
       "      <td>4</td>\n",
       "    </tr>\n",
       "    <tr>\n",
       "      <th>4</th>\n",
       "      <td>Yelahanka</td>\n",
       "      <td>Super built-up  Area</td>\n",
       "      <td>2190</td>\n",
       "      <td>Resale</td>\n",
       "      <td>5</td>\n",
       "      <td>3</td>\n",
       "      <td>5</td>\n",
       "      <td>3</td>\n",
       "    </tr>\n",
       "  </tbody>\n",
       "</table>\n",
       "</div>"
      ],
      "text/plain": [
       "        place                 built  sqft    sale  yearsOld  floor  \\\n",
       "0  BTM Layout  Super built-up  Area  1450  Resale         5      1   \n",
       "1   Yelahanka  Super built-up  Area  2190  Resale         5      3   \n",
       "2  Whitefield  Super built-up  Area  1019  Resale         1      2   \n",
       "3  Ambalipura  Super built-up  Area  1857  Resale        15      4   \n",
       "4   Yelahanka  Super built-up  Area  2190  Resale         5      3   \n",
       "\n",
       "   totalFloor  bhk  \n",
       "0           4    1  \n",
       "1           5    3  \n",
       "2           5    2  \n",
       "3           5    4  \n",
       "4           5    3  "
      ]
     },
     "execution_count": 51,
     "metadata": {},
     "output_type": "execute_result"
    }
   ],
   "source": [
    "data_1.head()"
   ]
  },
  {
   "cell_type": "code",
   "execution_count": 52,
   "metadata": {},
   "outputs": [
    {
     "data": {
      "text/plain": [
       "KFold(n_splits=4, random_state=None, shuffle=False)"
      ]
     },
     "execution_count": 52,
     "metadata": {},
     "output_type": "execute_result"
    }
   ],
   "source": [
    "# k-fold cross validation\n",
    "kf = KFold(n_splits=4)\n",
    "kf"
   ]
  },
  {
   "cell_type": "code",
   "execution_count": 53,
   "metadata": {},
   "outputs": [
    {
     "name": "stdout",
     "output_type": "stream",
     "text": [
      "[3 4 5 6 7 8] [0 1 2]\n",
      "[0 1 2 5 6 7 8] [3 4]\n",
      "[0 1 2 3 4 7 8] [5 6]\n",
      "[0 1 2 3 4 5 6] [7 8]\n"
     ]
    }
   ],
   "source": [
    "for train_index, test_index in kf.split([1,2,3,4,5,6,7,8,9]):\n",
    "    print(train_index, test_index)"
   ]
  },
  {
   "cell_type": "markdown",
   "metadata": {},
   "source": [
    "# Conclusion"
   ]
  },
  {
   "cell_type": "code",
   "execution_count": 54,
   "metadata": {},
   "outputs": [],
   "source": [
    "#Dataframe for models\n",
    "models = {\"Linear Regression\": LinearRegression(),\n",
    "          \"DecisionTree\": DecisionTreeClassifier(),\n",
    "          \"KNN\": KNeighborsClassifier()}\n",
    "          \n",
    "          \n",
    "\n",
    "# Create a function to fit and score models\n",
    "def fit_and_score(models, x_train, x_test, y_train, y_test):\n",
    "    \"\"\"\n",
    "    Fits and evaluates given machine learning models.\n",
    "    models : a dict of differetn Scikit-Learn machine learning models\n",
    "    X_train : training data (no labels)\n",
    "    X_test : testing data (no labels)\n",
    "    y_train : training labels\n",
    "    y_test : test labels\n",
    "    \"\"\"\n",
    "    # Set random seed\n",
    "    np.random.seed(42)\n",
    "    # Make a dictionary to keep model scores\n",
    "    model_scores = {}\n",
    "    # Loop through models\n",
    "    for name, model in models.items():\n",
    "        # Fit the model to the data\n",
    "        model.fit(x_train, y_train)\n",
    "        # Evaluate the model and append its score to model_scores\n",
    "        model_scores[name] = model.score(x_test, y_test)\n",
    "    return model_scores"
   ]
  },
  {
   "cell_type": "code",
   "execution_count": 55,
   "metadata": {},
   "outputs": [
    {
     "data": {
      "text/plain": [
       "{'Linear Regression': 0.6097240587682835, 'DecisionTree': 1.0, 'KNN': 1.0}"
      ]
     },
     "execution_count": 55,
     "metadata": {},
     "output_type": "execute_result"
    }
   ],
   "source": [
    "\n",
    "model_scores = fit_and_score(models=models,\n",
    "                             x_train=x_train,\n",
    "                             x_test=x_test,\n",
    "                             y_train=y_train,\n",
    "                             y_test=y_test)\n",
    "\n",
    "model_scores"
   ]
  },
  {
   "cell_type": "code",
   "execution_count": 56,
   "metadata": {},
   "outputs": [
    {
     "data": {
      "image/png": "[encoded data removed]",
      "text/plain": [
       "<Figure size 432x288 with 1 Axes>"
      ]
     },
     "metadata": {
      "needs_background": "light"
     },
     "output_type": "display_data"
    }
   ],
   "source": [
    "model_compare = pd.DataFrame(model_scores, index=[\"accuracy\"])\n",
    "model_compare.T.plot.bar();"
   ]
  }
 ],
 "metadata": {
  "kernelspec": {
   "display_name": "Python 3",
   "language": "python",
   "name": "python3"
  },
  "language_info": {
   "codemirror_mode": {
    "name": "ipython",
    "version": 3
   },
   "file_extension": ".py",
   "mimetype": "text/x-python",
   "name": "python",
   "nbconvert_exporter": "python",
   "pygments_lexer": "ipython3",
   "version": "3.8.5"
  }
 },
 "nbformat": 4,
 "nbformat_minor": 4
}
